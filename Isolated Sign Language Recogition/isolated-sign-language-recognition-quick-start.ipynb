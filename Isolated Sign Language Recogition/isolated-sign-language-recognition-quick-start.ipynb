{
 "cells": [
  {
   "cell_type": "markdown",
   "id": "2461708d",
   "metadata": {
    "papermill": {
     "duration": 0.009602,
     "end_time": "2023-03-12T21:36:46.658843",
     "exception": false,
     "start_time": "2023-03-12T21:36:46.649241",
     "status": "completed"
    },
    "tags": []
   },
   "source": [
    "# Credits\n",
    "\n",
    " As new Kaggler I was inspired by my peers, especially Robert Hatch's notebook [here](https://www.kaggle.com/code/roberthatch/gislr-lb-0-63-on-the-shoulders/notebook) and Lonnie's notebook [here](https://www.kaggle.com/code/lonnieqin/isolated-sign-language-recognition-with-dnn) which helped me a lot to understand this competition.\n",
    "<br>\n",
    "And also by Mayukh Bhattacharyya with his [EDA notebook](https://www.kaggle.com/code/mayukh18/sign-language-eda-visualization)\n",
    "\n",
    "Of course, as newbie, I am open to all proposals for improvement."
   ]
  },
  {
   "cell_type": "markdown",
   "id": "950ab4c3",
   "metadata": {
    "papermill": {
     "duration": 0.007802,
     "end_time": "2023-03-12T21:36:46.675072",
     "exception": false,
     "start_time": "2023-03-12T21:36:46.667270",
     "status": "completed"
    },
    "tags": []
   },
   "source": [
    "# Import"
   ]
  },
  {
   "cell_type": "code",
   "execution_count": 1,
   "id": "f3433a90",
   "metadata": {
    "execution": {
     "iopub.execute_input": "2023-03-12T21:36:46.693344Z",
     "iopub.status.busy": "2023-03-12T21:36:46.692883Z",
     "iopub.status.idle": "2023-03-12T21:36:54.357928Z",
     "shell.execute_reply": "2023-03-12T21:36:54.356838Z"
    },
    "papermill": {
     "duration": 7.677405,
     "end_time": "2023-03-12T21:36:54.360623",
     "exception": false,
     "start_time": "2023-03-12T21:36:46.683218",
     "status": "completed"
    },
    "tags": []
   },
   "outputs": [],
   "source": [
    "import numpy as np\n",
    "import pandas as pd\n",
    "import matplotlib.pyplot as plt\n",
    "from tqdm import tqdm\n",
    "\n",
    "import tensorflow as tf\n",
    "from tensorflow.keras import layers\n",
    "from sklearn.model_selection import train_test_split\n",
    "\n",
    "import os\n",
    "import random\n",
    "import json\n",
    "import glob"
   ]
  },
  {
   "cell_type": "code",
   "execution_count": 2,
   "id": "60d8b910",
   "metadata": {
    "execution": {
     "iopub.execute_input": "2023-03-12T21:36:54.380029Z",
     "iopub.status.busy": "2023-03-12T21:36:54.379282Z",
     "iopub.status.idle": "2023-03-12T21:37:06.758320Z",
     "shell.execute_reply": "2023-03-12T21:37:06.757251Z"
    },
    "papermill": {
     "duration": 12.392015,
     "end_time": "2023-03-12T21:37:06.761094",
     "exception": false,
     "start_time": "2023-03-12T21:36:54.369079",
     "status": "completed"
    },
    "tags": []
   },
   "outputs": [
    {
     "name": "stdout",
     "output_type": "stream",
     "text": [
      "\u001b[33mWARNING: Running pip as the 'root' user can result in broken permissions and conflicting behaviour with the system package manager. It is recommended to use a virtual environment instead: https://pip.pypa.io/warnings/venv\u001b[0m\u001b[33m\r\n",
      "\u001b[0m"
     ]
    }
   ],
   "source": [
    "# Install nb_black for autoformatting\n",
    "!pip install nb_black --quiet\n",
    "%load_ext lab_black"
   ]
  },
  {
   "cell_type": "markdown",
   "id": "68ce05d7",
   "metadata": {
    "papermill": {
     "duration": 0.007894,
     "end_time": "2023-03-12T21:37:06.777345",
     "exception": false,
     "start_time": "2023-03-12T21:37:06.769451",
     "status": "completed"
    },
    "tags": []
   },
   "source": [
    "# Set-up & Reproducible"
   ]
  },
  {
   "cell_type": "code",
   "execution_count": 3,
   "id": "c13f4495",
   "metadata": {
    "execution": {
     "iopub.execute_input": "2023-03-12T21:37:06.796410Z",
     "iopub.status.busy": "2023-03-12T21:37:06.795477Z",
     "iopub.status.idle": "2023-03-12T21:37:06.801925Z",
     "shell.execute_reply": "2023-03-12T21:37:06.801035Z"
    },
    "papermill": {
     "duration": 0.017847,
     "end_time": "2023-03-12T21:37:06.804027",
     "exception": false,
     "start_time": "2023-03-12T21:37:06.786180",
     "status": "completed"
    },
    "tags": []
   },
   "outputs": [],
   "source": [
    "# Constante\n",
    "ROWS_PER_FRAME = 543\n",
    "data_dir = \"/kaggle/input/asl-signs\"\n",
    "landmark_fimes_dir = \"/kaggle/input/asl-signs/train_landmark_files\""
   ]
  },
  {
   "cell_type": "code",
   "execution_count": 4,
   "id": "776a932f",
   "metadata": {
    "execution": {
     "iopub.execute_input": "2023-03-12T21:37:06.821131Z",
     "iopub.status.busy": "2023-03-12T21:37:06.820851Z",
     "iopub.status.idle": "2023-03-12T21:37:06.827659Z",
     "shell.execute_reply": "2023-03-12T21:37:06.826710Z"
    },
    "papermill": {
     "duration": 0.017808,
     "end_time": "2023-03-12T21:37:06.829801",
     "exception": false,
     "start_time": "2023-03-12T21:37:06.811993",
     "status": "completed"
    },
    "tags": []
   },
   "outputs": [],
   "source": [
    "def seed_it_all(seed=42):\n",
    "    os.environ[\"PYTHONHASHSEED\"] = str(seed)\n",
    "    random.seed(seed)\n",
    "    np.random.seed(seed)\n",
    "    tf.random.set_seed(seed)\n",
    "\n",
    "\n",
    "seed_it_all()  # Reproducible"
   ]
  },
  {
   "cell_type": "code",
   "execution_count": 5,
   "id": "71641b67",
   "metadata": {
    "execution": {
     "iopub.execute_input": "2023-03-12T21:37:06.847191Z",
     "iopub.status.busy": "2023-03-12T21:37:06.846580Z",
     "iopub.status.idle": "2023-03-12T21:37:06.854588Z",
     "shell.execute_reply": "2023-03-12T21:37:06.853685Z"
    },
    "papermill": {
     "duration": 0.019018,
     "end_time": "2023-03-12T21:37:06.856656",
     "exception": false,
     "start_time": "2023-03-12T21:37:06.837638",
     "status": "completed"
    },
    "tags": []
   },
   "outputs": [],
   "source": [
    "# ROWS_PER_FRAME = 543  # number of landmarks per frame\n",
    "def load_relevant_data_subset(pq_path):\n",
    "    data_columns = [\"x\", \"y\", \"z\"]\n",
    "    data = pd.read_parquet(pq_path, columns=data_columns)\n",
    "    n_frames = int(len(data) / ROWS_PER_FRAME)\n",
    "    data = data.values.reshape(n_frames, ROWS_PER_FRAME, len(data_columns))\n",
    "    return data.astype(np.float32)"
   ]
  },
  {
   "cell_type": "code",
   "execution_count": 6,
   "id": "c6c88e1b",
   "metadata": {
    "execution": {
     "iopub.execute_input": "2023-03-12T21:37:06.874971Z",
     "iopub.status.busy": "2023-03-12T21:37:06.874122Z",
     "iopub.status.idle": "2023-03-12T21:37:06.880583Z",
     "shell.execute_reply": "2023-03-12T21:37:06.879708Z"
    },
    "papermill": {
     "duration": 0.018171,
     "end_time": "2023-03-12T21:37:06.882721",
     "exception": false,
     "start_time": "2023-03-12T21:37:06.864550",
     "status": "completed"
    },
    "tags": []
   },
   "outputs": [],
   "source": [
    "def read_json(path):\n",
    "    with open(path, \"r\") as file:\n",
    "        json_data = json.load(file)\n",
    "    return json_data"
   ]
  },
  {
   "cell_type": "markdown",
   "id": "73a4e118",
   "metadata": {
    "papermill": {
     "duration": 0.007912,
     "end_time": "2023-03-12T21:37:06.898982",
     "exception": false,
     "start_time": "2023-03-12T21:37:06.891070",
     "status": "completed"
    },
    "tags": []
   },
   "source": [
    "## load data"
   ]
  },
  {
   "cell_type": "code",
   "execution_count": 7,
   "id": "6e4ad341",
   "metadata": {
    "execution": {
     "iopub.execute_input": "2023-03-12T21:37:06.916703Z",
     "iopub.status.busy": "2023-03-12T21:37:06.915950Z",
     "iopub.status.idle": "2023-03-12T21:37:07.144677Z",
     "shell.execute_reply": "2023-03-12T21:37:07.143729Z"
    },
    "papermill": {
     "duration": 0.23999,
     "end_time": "2023-03-12T21:37:07.146852",
     "exception": false,
     "start_time": "2023-03-12T21:37:06.906862",
     "status": "completed"
    },
    "tags": []
   },
   "outputs": [
    {
     "data": {
      "text/html": [
       "<div>\n",
       "<style scoped>\n",
       "    .dataframe tbody tr th:only-of-type {\n",
       "        vertical-align: middle;\n",
       "    }\n",
       "\n",
       "    .dataframe tbody tr th {\n",
       "        vertical-align: top;\n",
       "    }\n",
       "\n",
       "    .dataframe thead th {\n",
       "        text-align: right;\n",
       "    }\n",
       "</style>\n",
       "<table border=\"1\" class=\"dataframe\">\n",
       "  <thead>\n",
       "    <tr style=\"text-align: right;\">\n",
       "      <th></th>\n",
       "      <th>path</th>\n",
       "      <th>participant_id</th>\n",
       "      <th>sequence_id</th>\n",
       "      <th>sign</th>\n",
       "    </tr>\n",
       "  </thead>\n",
       "  <tbody>\n",
       "    <tr>\n",
       "      <th>0</th>\n",
       "      <td>/kaggle/input/asl-signs/train_landmark_files/2...</td>\n",
       "      <td>26734</td>\n",
       "      <td>1000035562</td>\n",
       "      <td>blow</td>\n",
       "    </tr>\n",
       "    <tr>\n",
       "      <th>1</th>\n",
       "      <td>/kaggle/input/asl-signs/train_landmark_files/2...</td>\n",
       "      <td>28656</td>\n",
       "      <td>1000106739</td>\n",
       "      <td>wait</td>\n",
       "    </tr>\n",
       "  </tbody>\n",
       "</table>\n",
       "</div>"
      ],
      "text/plain": [
       "                                                path  participant_id  \\\n",
       "0  /kaggle/input/asl-signs/train_landmark_files/2...           26734   \n",
       "1  /kaggle/input/asl-signs/train_landmark_files/2...           28656   \n",
       "\n",
       "   sequence_id  sign  \n",
       "0   1000035562  blow  \n",
       "1   1000106739  wait  "
      ]
     },
     "metadata": {},
     "output_type": "display_data"
    },
    {
     "data": {
      "text/plain": [
       "(None, 94477)"
      ]
     },
     "execution_count": 7,
     "metadata": {},
     "output_type": "execute_result"
    }
   ],
   "source": [
    "train_df = pd.read_csv(data_dir + \"/train.csv\")\n",
    "train_df[\"path\"] = data_dir + \"/\" + train_df[\"path\"]\n",
    "display(train_df.head(2)), len(train_df)"
   ]
  },
  {
   "cell_type": "code",
   "execution_count": 8,
   "id": "ce0553a3",
   "metadata": {
    "execution": {
     "iopub.execute_input": "2023-03-12T21:37:07.166372Z",
     "iopub.status.busy": "2023-03-12T21:37:07.165728Z",
     "iopub.status.idle": "2023-03-12T21:37:07.227959Z",
     "shell.execute_reply": "2023-03-12T21:37:07.226820Z"
    },
    "papermill": {
     "duration": 0.074012,
     "end_time": "2023-03-12T21:37:07.230137",
     "exception": false,
     "start_time": "2023-03-12T21:37:07.156125",
     "status": "completed"
    },
    "tags": []
   },
   "outputs": [
    {
     "name": "stdout",
     "output_type": "stream",
     "text": [
      "shape = (94477, 5)\n"
     ]
    },
    {
     "data": {
      "text/html": [
       "<div>\n",
       "<style scoped>\n",
       "    .dataframe tbody tr th:only-of-type {\n",
       "        vertical-align: middle;\n",
       "    }\n",
       "\n",
       "    .dataframe tbody tr th {\n",
       "        vertical-align: top;\n",
       "    }\n",
       "\n",
       "    .dataframe thead th {\n",
       "        text-align: right;\n",
       "    }\n",
       "</style>\n",
       "<table border=\"1\" class=\"dataframe\">\n",
       "  <thead>\n",
       "    <tr style=\"text-align: right;\">\n",
       "      <th></th>\n",
       "      <th>path</th>\n",
       "      <th>participant_id</th>\n",
       "      <th>sequence_id</th>\n",
       "      <th>sign</th>\n",
       "      <th>label</th>\n",
       "    </tr>\n",
       "  </thead>\n",
       "  <tbody>\n",
       "    <tr>\n",
       "      <th>0</th>\n",
       "      <td>/kaggle/input/asl-signs/train_landmark_files/2...</td>\n",
       "      <td>26734</td>\n",
       "      <td>1000035562</td>\n",
       "      <td>blow</td>\n",
       "      <td>25</td>\n",
       "    </tr>\n",
       "    <tr>\n",
       "      <th>1</th>\n",
       "      <td>/kaggle/input/asl-signs/train_landmark_files/2...</td>\n",
       "      <td>28656</td>\n",
       "      <td>1000106739</td>\n",
       "      <td>wait</td>\n",
       "      <td>232</td>\n",
       "    </tr>\n",
       "  </tbody>\n",
       "</table>\n",
       "</div>"
      ],
      "text/plain": [
       "                                                path  participant_id  \\\n",
       "0  /kaggle/input/asl-signs/train_landmark_files/2...           26734   \n",
       "1  /kaggle/input/asl-signs/train_landmark_files/2...           28656   \n",
       "\n",
       "   sequence_id  sign  label  \n",
       "0   1000035562  blow     25  \n",
       "1   1000106739  wait    232  "
      ]
     },
     "execution_count": 8,
     "metadata": {},
     "output_type": "execute_result"
    }
   ],
   "source": [
    "s2p_map = read_json(os.path.join(data_dir, \"sign_to_prediction_index_map.json\"))\n",
    "p2s_map = {v: k for k, v in s2p_map.items()}\n",
    "\n",
    "encoder = lambda x: s2p_map.get(x)\n",
    "decoder = lambda x: p2s_map.get(x)\n",
    "\n",
    "train_df[\"label\"] = train_df[\"sign\"].map(encoder)\n",
    "print(f\"shape = {train_df.shape}\")\n",
    "\n",
    "train_df.head(2)"
   ]
  },
  {
   "cell_type": "markdown",
   "id": "a3361748",
   "metadata": {
    "papermill": {
     "duration": 0.008546,
     "end_time": "2023-03-12T21:37:07.247429",
     "exception": false,
     "start_time": "2023-03-12T21:37:07.238883",
     "status": "completed"
    },
    "tags": []
   },
   "source": [
    "# Quick EDA (Exploratory data analysis)"
   ]
  },
  {
   "cell_type": "markdown",
   "id": "3a1b602b",
   "metadata": {
    "papermill": {
     "duration": 0.008574,
     "end_time": "2023-03-12T21:37:07.264412",
     "exception": false,
     "start_time": "2023-03-12T21:37:07.255838",
     "status": "completed"
    },
    "tags": []
   },
   "source": [
    "As explain in the ['Dataset Description' section](https://www.kaggle.com/competitions/asl-signs/data) :\n",
    "\n",
    "The landmarks were extracted from raw videos with the [MediaPipe holistic model](https://google.github.io/mediapipe/solutions/holistic.html). \n",
    "Not all of the frames necessarily had visible hands or hands that could be detected by the model.\n",
    "<img src=\"https://mediapipe.dev/images/mobile/holistic_pipeline_example.jpg\"  width=\"800\" height=\"600\">"
   ]
  },
  {
   "cell_type": "code",
   "execution_count": 9,
   "id": "ad722acc",
   "metadata": {
    "execution": {
     "iopub.execute_input": "2023-03-12T21:37:07.282941Z",
     "iopub.status.busy": "2023-03-12T21:37:07.282578Z",
     "iopub.status.idle": "2023-03-12T21:37:11.283676Z",
     "shell.execute_reply": "2023-03-12T21:37:11.282536Z"
    },
    "papermill": {
     "duration": 4.013741,
     "end_time": "2023-03-12T21:37:11.286580",
     "exception": false,
     "start_time": "2023-03-12T21:37:07.272839",
     "status": "completed"
    },
    "tags": []
   },
   "outputs": [
    {
     "name": "stdout",
     "output_type": "stream",
     "text": [
      "Total number of participants = 21\n",
      "Average number of sequences per participant = 4498.9047619047615\n"
     ]
    }
   ],
   "source": [
    "participants = os.listdir(landmark_fimes_dir)\n",
    "print(f\"Total number of participants = {len(participants)}\")\n",
    "print(\n",
    "    f\"Average number of sequences per participant = {len(glob.glob(landmark_fimes_dir + '/*/*.parquet'))/len(participants)}\"\n",
    ")"
   ]
  },
  {
   "cell_type": "code",
   "execution_count": 10,
   "id": "525aeb71",
   "metadata": {
    "execution": {
     "iopub.execute_input": "2023-03-12T21:37:11.306129Z",
     "iopub.status.busy": "2023-03-12T21:37:11.305794Z",
     "iopub.status.idle": "2023-03-12T21:37:11.314332Z",
     "shell.execute_reply": "2023-03-12T21:37:11.313379Z"
    },
    "papermill": {
     "duration": 0.020496,
     "end_time": "2023-03-12T21:37:11.316538",
     "exception": false,
     "start_time": "2023-03-12T21:37:11.296042",
     "status": "completed"
    },
    "tags": []
   },
   "outputs": [
    {
     "data": {
      "text/plain": [
       "(94476, 94477)"
      ]
     },
     "execution_count": 10,
     "metadata": {},
     "output_type": "execute_result"
    }
   ],
   "source": [
    "int(21 * 4498.9), train_df.shape[0]  # ~ same"
   ]
  },
  {
   "cell_type": "markdown",
   "id": "2274bf1c",
   "metadata": {
    "papermill": {
     "duration": 0.008519,
     "end_time": "2023-03-12T21:37:11.334037",
     "exception": false,
     "start_time": "2023-03-12T21:37:11.325518",
     "status": "completed"
    },
    "tags": []
   },
   "source": [
    "First Sequence of the first participant in our dataset :"
   ]
  },
  {
   "cell_type": "code",
   "execution_count": 11,
   "id": "220f9ccd",
   "metadata": {
    "execution": {
     "iopub.execute_input": "2023-03-12T21:37:11.353485Z",
     "iopub.status.busy": "2023-03-12T21:37:11.352554Z",
     "iopub.status.idle": "2023-03-12T21:37:11.692690Z",
     "shell.execute_reply": "2023-03-12T21:37:11.691728Z"
    },
    "papermill": {
     "duration": 0.352008,
     "end_time": "2023-03-12T21:37:11.694822",
     "exception": false,
     "start_time": "2023-03-12T21:37:11.342814",
     "status": "completed"
    },
    "tags": []
   },
   "outputs": [
    {
     "name": "stdout",
     "output_type": "stream",
     "text": [
      "Sample shape = (12489, 7)\n",
      "Number of Frames = 23\n"
     ]
    },
    {
     "data": {
      "text/html": [
       "<div>\n",
       "<style scoped>\n",
       "    .dataframe tbody tr th:only-of-type {\n",
       "        vertical-align: middle;\n",
       "    }\n",
       "\n",
       "    .dataframe tbody tr th {\n",
       "        vertical-align: top;\n",
       "    }\n",
       "\n",
       "    .dataframe thead th {\n",
       "        text-align: right;\n",
       "    }\n",
       "</style>\n",
       "<table border=\"1\" class=\"dataframe\">\n",
       "  <thead>\n",
       "    <tr style=\"text-align: right;\">\n",
       "      <th></th>\n",
       "      <th>frame</th>\n",
       "      <th>row_id</th>\n",
       "      <th>type</th>\n",
       "      <th>landmark_index</th>\n",
       "      <th>x</th>\n",
       "      <th>y</th>\n",
       "      <th>z</th>\n",
       "    </tr>\n",
       "  </thead>\n",
       "  <tbody>\n",
       "    <tr>\n",
       "      <th>0</th>\n",
       "      <td>20</td>\n",
       "      <td>20-face-0</td>\n",
       "      <td>face</td>\n",
       "      <td>0</td>\n",
       "      <td>0.494400</td>\n",
       "      <td>0.380470</td>\n",
       "      <td>-0.030626</td>\n",
       "    </tr>\n",
       "    <tr>\n",
       "      <th>1</th>\n",
       "      <td>20</td>\n",
       "      <td>20-face-1</td>\n",
       "      <td>face</td>\n",
       "      <td>1</td>\n",
       "      <td>0.496017</td>\n",
       "      <td>0.350735</td>\n",
       "      <td>-0.057565</td>\n",
       "    </tr>\n",
       "    <tr>\n",
       "      <th>2</th>\n",
       "      <td>20</td>\n",
       "      <td>20-face-2</td>\n",
       "      <td>face</td>\n",
       "      <td>2</td>\n",
       "      <td>0.500818</td>\n",
       "      <td>0.359343</td>\n",
       "      <td>-0.030283</td>\n",
       "    </tr>\n",
       "    <tr>\n",
       "      <th>3</th>\n",
       "      <td>20</td>\n",
       "      <td>20-face-3</td>\n",
       "      <td>face</td>\n",
       "      <td>3</td>\n",
       "      <td>0.489788</td>\n",
       "      <td>0.321780</td>\n",
       "      <td>-0.040622</td>\n",
       "    </tr>\n",
       "    <tr>\n",
       "      <th>4</th>\n",
       "      <td>20</td>\n",
       "      <td>20-face-4</td>\n",
       "      <td>face</td>\n",
       "      <td>4</td>\n",
       "      <td>0.495304</td>\n",
       "      <td>0.341821</td>\n",
       "      <td>-0.061152</td>\n",
       "    </tr>\n",
       "    <tr>\n",
       "      <th>...</th>\n",
       "      <td>...</td>\n",
       "      <td>...</td>\n",
       "      <td>...</td>\n",
       "      <td>...</td>\n",
       "      <td>...</td>\n",
       "      <td>...</td>\n",
       "      <td>...</td>\n",
       "    </tr>\n",
       "    <tr>\n",
       "      <th>12484</th>\n",
       "      <td>42</td>\n",
       "      <td>42-right_hand-16</td>\n",
       "      <td>right_hand</td>\n",
       "      <td>16</td>\n",
       "      <td>0.001660</td>\n",
       "      <td>0.549574</td>\n",
       "      <td>-0.145409</td>\n",
       "    </tr>\n",
       "    <tr>\n",
       "      <th>12485</th>\n",
       "      <td>42</td>\n",
       "      <td>42-right_hand-17</td>\n",
       "      <td>right_hand</td>\n",
       "      <td>17</td>\n",
       "      <td>0.042694</td>\n",
       "      <td>0.693116</td>\n",
       "      <td>-0.085307</td>\n",
       "    </tr>\n",
       "    <tr>\n",
       "      <th>12486</th>\n",
       "      <td>42</td>\n",
       "      <td>42-right_hand-18</td>\n",
       "      <td>right_hand</td>\n",
       "      <td>18</td>\n",
       "      <td>0.006723</td>\n",
       "      <td>0.665044</td>\n",
       "      <td>-0.114017</td>\n",
       "    </tr>\n",
       "    <tr>\n",
       "      <th>12487</th>\n",
       "      <td>42</td>\n",
       "      <td>42-right_hand-19</td>\n",
       "      <td>right_hand</td>\n",
       "      <td>19</td>\n",
       "      <td>-0.014755</td>\n",
       "      <td>0.643799</td>\n",
       "      <td>-0.123488</td>\n",
       "    </tr>\n",
       "    <tr>\n",
       "      <th>12488</th>\n",
       "      <td>42</td>\n",
       "      <td>42-right_hand-20</td>\n",
       "      <td>right_hand</td>\n",
       "      <td>20</td>\n",
       "      <td>-0.031811</td>\n",
       "      <td>0.627077</td>\n",
       "      <td>-0.129067</td>\n",
       "    </tr>\n",
       "  </tbody>\n",
       "</table>\n",
       "<p>12489 rows × 7 columns</p>\n",
       "</div>"
      ],
      "text/plain": [
       "       frame            row_id        type  landmark_index         x  \\\n",
       "0         20         20-face-0        face               0  0.494400   \n",
       "1         20         20-face-1        face               1  0.496017   \n",
       "2         20         20-face-2        face               2  0.500818   \n",
       "3         20         20-face-3        face               3  0.489788   \n",
       "4         20         20-face-4        face               4  0.495304   \n",
       "...      ...               ...         ...             ...       ...   \n",
       "12484     42  42-right_hand-16  right_hand              16  0.001660   \n",
       "12485     42  42-right_hand-17  right_hand              17  0.042694   \n",
       "12486     42  42-right_hand-18  right_hand              18  0.006723   \n",
       "12487     42  42-right_hand-19  right_hand              19 -0.014755   \n",
       "12488     42  42-right_hand-20  right_hand              20 -0.031811   \n",
       "\n",
       "              y         z  \n",
       "0      0.380470 -0.030626  \n",
       "1      0.350735 -0.057565  \n",
       "2      0.359343 -0.030283  \n",
       "3      0.321780 -0.040622  \n",
       "4      0.341821 -0.061152  \n",
       "...         ...       ...  \n",
       "12484  0.549574 -0.145409  \n",
       "12485  0.693116 -0.085307  \n",
       "12486  0.665044 -0.114017  \n",
       "12487  0.643799 -0.123488  \n",
       "12488  0.627077 -0.129067  \n",
       "\n",
       "[12489 rows x 7 columns]"
      ]
     },
     "metadata": {},
     "output_type": "display_data"
    },
    {
     "data": {
      "text/html": [
       "<div>\n",
       "<style scoped>\n",
       "    .dataframe tbody tr th:only-of-type {\n",
       "        vertical-align: middle;\n",
       "    }\n",
       "\n",
       "    .dataframe tbody tr th {\n",
       "        vertical-align: top;\n",
       "    }\n",
       "\n",
       "    .dataframe thead th {\n",
       "        text-align: right;\n",
       "    }\n",
       "</style>\n",
       "<table border=\"1\" class=\"dataframe\">\n",
       "  <thead>\n",
       "    <tr style=\"text-align: right;\">\n",
       "      <th></th>\n",
       "      <th>frame</th>\n",
       "      <th>row_id</th>\n",
       "      <th>type</th>\n",
       "      <th>landmark_index</th>\n",
       "      <th>x</th>\n",
       "      <th>y</th>\n",
       "      <th>z</th>\n",
       "    </tr>\n",
       "  </thead>\n",
       "  <tbody>\n",
       "    <tr>\n",
       "      <th>541</th>\n",
       "      <td>20</td>\n",
       "      <td>20-right_hand-19</td>\n",
       "      <td>right_hand</td>\n",
       "      <td>19</td>\n",
       "      <td>0.350728</td>\n",
       "      <td>0.399582</td>\n",
       "      <td>-0.060217</td>\n",
       "    </tr>\n",
       "    <tr>\n",
       "      <th>542</th>\n",
       "      <td>20</td>\n",
       "      <td>20-right_hand-20</td>\n",
       "      <td>right_hand</td>\n",
       "      <td>20</td>\n",
       "      <td>0.385796</td>\n",
       "      <td>0.401101</td>\n",
       "      <td>-0.064718</td>\n",
       "    </tr>\n",
       "    <tr>\n",
       "      <th>543</th>\n",
       "      <td>21</td>\n",
       "      <td>21-face-0</td>\n",
       "      <td>face</td>\n",
       "      <td>0</td>\n",
       "      <td>0.501150</td>\n",
       "      <td>0.380554</td>\n",
       "      <td>-0.031570</td>\n",
       "    </tr>\n",
       "  </tbody>\n",
       "</table>\n",
       "</div>"
      ],
      "text/plain": [
       "     frame            row_id        type  landmark_index         x         y  \\\n",
       "541     20  20-right_hand-19  right_hand              19  0.350728  0.399582   \n",
       "542     20  20-right_hand-20  right_hand              20  0.385796  0.401101   \n",
       "543     21         21-face-0        face               0  0.501150  0.380554   \n",
       "\n",
       "            z  \n",
       "541 -0.060217  \n",
       "542 -0.064718  \n",
       "543 -0.031570  "
      ]
     },
     "metadata": {},
     "output_type": "display_data"
    },
    {
     "data": {
      "text/plain": [
       "(None, None)"
      ]
     },
     "execution_count": 11,
     "metadata": {},
     "output_type": "execute_result"
    }
   ],
   "source": [
    "sample_path = train_df.path[0]\n",
    "sample = pd.read_parquet(sample_path)\n",
    "\n",
    "print(f\"Sample shape = {sample.shape}\")\n",
    "print(f\"Number of Frames = {int(len(sample) / ROWS_PER_FRAME)}\")\n",
    "# ROWS_PER_FRAME = 543 i.e. one frame is represented by 543 row in our dataset, including the face, both hands and pose\n",
    "# n_frame can also be found : 20->42=>23frames i.e. sample.frame.max() -> sample.frame.min() : sample.nunique()\n",
    "\n",
    "display(sample), display(sample.iloc[541:544])"
   ]
  },
  {
   "cell_type": "code",
   "execution_count": 12,
   "id": "d7e5e095",
   "metadata": {
    "execution": {
     "iopub.execute_input": "2023-03-12T21:37:11.716011Z",
     "iopub.status.busy": "2023-03-12T21:37:11.714498Z",
     "iopub.status.idle": "2023-03-12T21:37:11.726296Z",
     "shell.execute_reply": "2023-03-12T21:37:11.725367Z"
    },
    "papermill": {
     "duration": 0.024178,
     "end_time": "2023-03-12T21:37:11.728489",
     "exception": false,
     "start_time": "2023-03-12T21:37:11.704311",
     "status": "completed"
    },
    "tags": []
   },
   "outputs": [
    {
     "data": {
      "text/plain": [
       "frame               0\n",
       "row_id              0\n",
       "type                0\n",
       "landmark_index      0\n",
       "x                 735\n",
       "y                 735\n",
       "z                 735\n",
       "dtype: int64"
      ]
     },
     "execution_count": 12,
     "metadata": {},
     "output_type": "execute_result"
    }
   ],
   "source": [
    "sample.isna().sum()  # probably the hand as explain in the 'Dataset Description' section"
   ]
  },
  {
   "cell_type": "markdown",
   "id": "81262f04",
   "metadata": {
    "papermill": {
     "duration": 0.00901,
     "end_time": "2023-03-12T21:37:11.746652",
     "exception": false,
     "start_time": "2023-03-12T21:37:11.737642",
     "status": "completed"
    },
    "tags": []
   },
   "source": [
    "## Load data for evaluation"
   ]
  },
  {
   "cell_type": "code",
   "execution_count": 13,
   "id": "4cb035e0",
   "metadata": {
    "execution": {
     "iopub.execute_input": "2023-03-12T21:37:11.766139Z",
     "iopub.status.busy": "2023-03-12T21:37:11.765858Z",
     "iopub.status.idle": "2023-03-12T21:37:11.779453Z",
     "shell.execute_reply": "2023-03-12T21:37:11.778502Z"
    },
    "papermill": {
     "duration": 0.025718,
     "end_time": "2023-03-12T21:37:11.781531",
     "exception": false,
     "start_time": "2023-03-12T21:37:11.755813",
     "status": "completed"
    },
    "tags": []
   },
   "outputs": [
    {
     "name": "stdout",
     "output_type": "stream",
     "text": [
      "shape = (23, 543, 3) = (n_frames, row_per_frame, xyz) \n",
      "\n"
     ]
    },
    {
     "data": {
      "text/plain": [
       "array([[[ 0.49440014,  0.38046983, -0.03062646],\n",
       "        [ 0.49601725,  0.3507348 , -0.05756483],\n",
       "        [ 0.5008185 ,  0.35934305, -0.03028346],\n",
       "        [ 0.48978812,  0.32177976, -0.04062242]]], dtype=float32)"
      ]
     },
     "execution_count": 13,
     "metadata": {},
     "output_type": "execute_result"
    }
   ],
   "source": [
    "sample_data_np = load_relevant_data_subset(sample_path)\n",
    "print(f\"shape = {sample_data_np.shape} = (n_frames, row_per_frame, xyz) \\n\")\n",
    "sample_data_np[:1, :4, :]"
   ]
  },
  {
   "cell_type": "markdown",
   "id": "96f62bd9",
   "metadata": {
    "papermill": {
     "duration": 0.010161,
     "end_time": "2023-03-12T21:37:11.801196",
     "exception": false,
     "start_time": "2023-03-12T21:37:11.791035",
     "status": "completed"
    },
    "tags": []
   },
   "source": [
    "## Right hand sample :\n",
    "All different types of landmark = ['face', 'left_hand', 'pose', 'right_hand']"
   ]
  },
  {
   "cell_type": "code",
   "execution_count": 14,
   "id": "d0b7ace6",
   "metadata": {
    "execution": {
     "iopub.execute_input": "2023-03-12T21:37:11.821913Z",
     "iopub.status.busy": "2023-03-12T21:37:11.821220Z",
     "iopub.status.idle": "2023-03-12T21:37:11.859952Z",
     "shell.execute_reply": "2023-03-12T21:37:11.858962Z"
    },
    "papermill": {
     "duration": 0.05136,
     "end_time": "2023-03-12T21:37:11.862068",
     "exception": false,
     "start_time": "2023-03-12T21:37:11.810708",
     "status": "completed"
    },
    "tags": []
   },
   "outputs": [
    {
     "name": "stdout",
     "output_type": "stream",
     "text": [
      "Number of Frames = 30\n",
      "First frame indice is 20\n",
      "Last frame indice is 49\n",
      "Sample signe is : duck\n"
     ]
    },
    {
     "data": {
      "text/html": [
       "<div>\n",
       "<style scoped>\n",
       "    .dataframe tbody tr th:only-of-type {\n",
       "        vertical-align: middle;\n",
       "    }\n",
       "\n",
       "    .dataframe tbody tr th {\n",
       "        vertical-align: top;\n",
       "    }\n",
       "\n",
       "    .dataframe thead th {\n",
       "        text-align: right;\n",
       "    }\n",
       "</style>\n",
       "<table border=\"1\" class=\"dataframe\">\n",
       "  <thead>\n",
       "    <tr style=\"text-align: right;\">\n",
       "      <th></th>\n",
       "      <th>frame</th>\n",
       "      <th>row_id</th>\n",
       "      <th>type</th>\n",
       "      <th>landmark_index</th>\n",
       "      <th>x</th>\n",
       "      <th>y</th>\n",
       "      <th>z</th>\n",
       "    </tr>\n",
       "  </thead>\n",
       "  <tbody>\n",
       "    <tr>\n",
       "      <th>522</th>\n",
       "      <td>20</td>\n",
       "      <td>20-right_hand-0</td>\n",
       "      <td>right_hand</td>\n",
       "      <td>0</td>\n",
       "      <td>0.255993</td>\n",
       "      <td>0.540393</td>\n",
       "      <td>7.167730e-07</td>\n",
       "    </tr>\n",
       "    <tr>\n",
       "      <th>523</th>\n",
       "      <td>20</td>\n",
       "      <td>20-right_hand-1</td>\n",
       "      <td>right_hand</td>\n",
       "      <td>1</td>\n",
       "      <td>0.320184</td>\n",
       "      <td>0.544032</td>\n",
       "      <td>-4.895598e-02</td>\n",
       "    </tr>\n",
       "  </tbody>\n",
       "</table>\n",
       "</div>"
      ],
      "text/plain": [
       "     frame           row_id        type  landmark_index         x         y  \\\n",
       "522     20  20-right_hand-0  right_hand               0  0.255993  0.540393   \n",
       "523     20  20-right_hand-1  right_hand               1  0.320184  0.544032   \n",
       "\n",
       "                z  \n",
       "522  7.167730e-07  \n",
       "523 -4.895598e-02  "
      ]
     },
     "execution_count": 14,
     "metadata": {},
     "output_type": "execute_result"
    }
   ],
   "source": [
    "sample_path_hand = train_df.path[5]  # 5 : empirical choice\n",
    "sample_for_hand = pd.read_parquet(sample_path_hand)\n",
    "\n",
    "print(f\"Number of Frames = {int(len(sample_for_hand) / ROWS_PER_FRAME)}\")\n",
    "print(f\"First frame indice is {sample_for_hand.frame.min()}\")\n",
    "print(f\"Last frame indice is {sample_for_hand.frame.max()}\")\n",
    "print(f\"Sample signe is : {train_df.sign[5]}\")\n",
    "\n",
    "right_hand_sample = sample_for_hand[sample_for_hand.type == \"right_hand\"]\n",
    "left_hand_sample = sample_for_hand[sample_for_hand.type == \"left_hand\"]\n",
    "right_hand_sample.head(2)"
   ]
  },
  {
   "cell_type": "markdown",
   "id": "cda997b7",
   "metadata": {
    "papermill": {
     "duration": 0.009407,
     "end_time": "2023-03-12T21:37:11.881055",
     "exception": false,
     "start_time": "2023-03-12T21:37:11.871648",
     "status": "completed"
    },
    "tags": []
   },
   "source": [
    "***duck* sign language :**\n",
    "\n",
    "![duck sign language](https://images.twinkl.co.uk/tr/image/upload/t_illustration/illustation/Auslan-Duck-Sign--Australian-Sign-Language-KS2.png)"
   ]
  },
  {
   "cell_type": "code",
   "execution_count": 15,
   "id": "7c0764a6",
   "metadata": {
    "execution": {
     "iopub.execute_input": "2023-03-12T21:37:11.901807Z",
     "iopub.status.busy": "2023-03-12T21:37:11.901508Z",
     "iopub.status.idle": "2023-03-12T21:37:11.909738Z",
     "shell.execute_reply": "2023-03-12T21:37:11.908632Z"
    },
    "papermill": {
     "duration": 0.021253,
     "end_time": "2023-03-12T21:37:11.911842",
     "exception": false,
     "start_time": "2023-03-12T21:37:11.890589",
     "status": "completed"
    },
    "tags": []
   },
   "outputs": [
    {
     "name": "stdout",
     "output_type": "stream",
     "text": [
      "Percentage of nulls in Right Hand data = 0.00 %\n",
      "Percentage of nulls in Left Hand data = 100.00 %\n"
     ]
    }
   ],
   "source": [
    "print(\n",
    "    f\"Percentage of nulls in Right Hand data = {100*np.mean(right_hand_sample['x'].isnull()):.2f} %\"\n",
    ")\n",
    "print(\n",
    "    f\"Percentage of nulls in Left Hand data = {100*np.mean(left_hand_sample['x'].isnull()):.02f} %\"\n",
    ")"
   ]
  },
  {
   "cell_type": "markdown",
   "id": "8e576194",
   "metadata": {
    "papermill": {
     "duration": 0.009557,
     "end_time": "2023-03-12T21:37:11.930872",
     "exception": false,
     "start_time": "2023-03-12T21:37:11.921315",
     "status": "completed"
    },
    "tags": []
   },
   "source": [
    "## Visualizing (duck sign)\n",
    "\n",
    "<img src=\"https://mediapipe.dev/images/mobile/hand_landmarks.png\"  width=\"600\" height=\"300\">\n"
   ]
  },
  {
   "cell_type": "code",
   "execution_count": 16,
   "id": "f7aee349",
   "metadata": {
    "execution": {
     "iopub.execute_input": "2023-03-12T21:37:11.951950Z",
     "iopub.status.busy": "2023-03-12T21:37:11.951118Z",
     "iopub.status.idle": "2023-03-12T21:37:11.973613Z",
     "shell.execute_reply": "2023-03-12T21:37:11.972669Z"
    },
    "papermill": {
     "duration": 0.035097,
     "end_time": "2023-03-12T21:37:11.975713",
     "exception": false,
     "start_time": "2023-03-12T21:37:11.940616",
     "status": "completed"
    },
    "tags": []
   },
   "outputs": [],
   "source": [
    "edges = [\n",
    "    (0, 1),\n",
    "    (1, 2),\n",
    "    (2, 3),\n",
    "    (3, 4),\n",
    "    (0, 5),\n",
    "    (0, 17),\n",
    "    (5, 6),\n",
    "    (6, 7),\n",
    "    (7, 8),\n",
    "    (5, 9),\n",
    "    (9, 10),\n",
    "    (10, 11),\n",
    "    (11, 12),\n",
    "    (9, 13),\n",
    "    (13, 14),\n",
    "    (14, 15),\n",
    "    (15, 16),\n",
    "    (13, 17),\n",
    "    (17, 18),\n",
    "    (18, 19),\n",
    "    (19, 20),\n",
    "]  # see above\n",
    "\n",
    "\n",
    "def plot_frame(df, frame_id, ax):\n",
    "    df = df[df.frame == frame_id].sort_values([\"landmark_index\"])\n",
    "    x = list(df.x)\n",
    "    y = list(df.y)\n",
    "\n",
    "    ax.scatter(df.x, df.y, color=\"dodgerblue\")\n",
    "    for i in range(len(x)):\n",
    "        ax.text(x[i], y[i], str(i))\n",
    "\n",
    "    for edge in edges:\n",
    "        ax.plot([x[edge[0]], x[edge[1]]], [y[edge[0]], y[edge[1]]], color=\"salmon\")\n",
    "        ax.set_title(f\"Frame no. {frame_id}\")\n",
    "        ax.axis(False)\n",
    "\n",
    "\n",
    "def plot_frame_seq(df, frame_id_range, n_frames):\n",
    "    frames = np.linspace(\n",
    "        frame_id_range[0], frame_id_range[1], n_frames, dtype=int, endpoint=True\n",
    "    )\n",
    "    fig, ax = plt.subplots(n_frames, 1, figsize=(5, 25))\n",
    "    for i in range(n_frames):\n",
    "        plot_frame(df, frames[i], ax[i])\n",
    "\n",
    "    plt.show()"
   ]
  },
  {
   "cell_type": "code",
   "execution_count": 17,
   "id": "c4b513d7",
   "metadata": {
    "execution": {
     "iopub.execute_input": "2023-03-12T21:37:11.998173Z",
     "iopub.status.busy": "2023-03-12T21:37:11.997289Z",
     "iopub.status.idle": "2023-03-12T21:37:12.728870Z",
     "shell.execute_reply": "2023-03-12T21:37:12.727827Z"
    },
    "papermill": {
     "duration": 0.745956,
     "end_time": "2023-03-12T21:37:12.732508",
     "exception": false,
     "start_time": "2023-03-12T21:37:11.986552",
     "status": "completed"
    },
    "tags": []
   },
   "outputs": [
    {
     "data": {
      "image/png": "[encoded data removed]",
      "text/plain": [
       "<Figure size 500x2500 with 5 Axes>"
      ]
     },
     "metadata": {},
     "output_type": "display_data"
    }
   ],
   "source": [
    "plot_frame_seq(right_hand_sample, (20, 40), 5)  # take 1 frame out of 4"
   ]
  },
  {
   "cell_type": "markdown",
   "id": "f5497878",
   "metadata": {
    "papermill": {
     "duration": 0.011832,
     "end_time": "2023-03-12T21:37:12.756600",
     "exception": false,
     "start_time": "2023-03-12T21:37:12.744768",
     "status": "completed"
    },
    "tags": []
   },
   "source": [
    "**Looks like the image is up side down, comparing to the duck sign language**"
   ]
  },
  {
   "cell_type": "markdown",
   "id": "9ce3e90a",
   "metadata": {
    "papermill": {
     "duration": 0.011856,
     "end_time": "2023-03-12T21:37:12.780454",
     "exception": false,
     "start_time": "2023-03-12T21:37:12.768598",
     "status": "completed"
    },
    "tags": []
   },
   "source": [
    "# Baseline model\n",
    "\n",
    "data shape is (n_frame, row_per_frame, xyz) \n",
    "- n_frame is not constante => probleme\n",
    "- row_per_frame = 543\n",
    "- xyz = 3\n",
    "\n",
    "The baseline model will take the mean of all the frame and replace the `NaN` values ny `0`"
   ]
  },
  {
   "cell_type": "markdown",
   "id": "92caf895",
   "metadata": {
    "papermill": {
     "duration": 0.011836,
     "end_time": "2023-03-12T21:37:12.804070",
     "exception": false,
     "start_time": "2023-03-12T21:37:12.792234",
     "status": "completed"
    },
    "tags": []
   },
   "source": [
    "## Create dataset\n",
    "\n"
   ]
  },
  {
   "cell_type": "code",
   "execution_count": 18,
   "id": "9f8e4fb5",
   "metadata": {
    "execution": {
     "iopub.execute_input": "2023-03-12T21:37:12.829847Z",
     "iopub.status.busy": "2023-03-12T21:37:12.829452Z",
     "iopub.status.idle": "2023-03-12T21:37:12.847715Z",
     "shell.execute_reply": "2023-03-12T21:37:12.846717Z"
    },
    "papermill": {
     "duration": 0.03414,
     "end_time": "2023-03-12T21:37:12.849941",
     "exception": false,
     "start_time": "2023-03-12T21:37:12.815801",
     "status": "completed"
    },
    "tags": []
   },
   "outputs": [],
   "source": [
    "class FeatureGen(tf.keras.layers.Layer):\n",
    "    def __init__(self):\n",
    "        super().__init__()\n",
    "\n",
    "    def call(self, x):\n",
    "        x = tf.where(tf.math.is_nan(x), tf.zeros_like(x), x)\n",
    "        x = np.mean(x, axis=0)\n",
    "        return x\n",
    "\n",
    "\n",
    "feature_converter = FeatureGen()"
   ]
  },
  {
   "cell_type": "code",
   "execution_count": 19,
   "id": "04babbc1",
   "metadata": {
    "execution": {
     "iopub.execute_input": "2023-03-12T21:37:12.876591Z",
     "iopub.status.busy": "2023-03-12T21:37:12.875648Z",
     "iopub.status.idle": "2023-03-12T21:37:12.883500Z",
     "shell.execute_reply": "2023-03-12T21:37:12.882554Z"
    },
    "papermill": {
     "duration": 0.023486,
     "end_time": "2023-03-12T21:37:12.885873",
     "exception": false,
     "start_time": "2023-03-12T21:37:12.862387",
     "status": "completed"
    },
    "tags": []
   },
   "outputs": [
    {
     "data": {
      "text/plain": [
       "94477"
      ]
     },
     "execution_count": 19,
     "metadata": {},
     "output_type": "execute_result"
    }
   ],
   "source": [
    "data_lenght_experiment = len(train_df)\n",
    "data_lenght_experiment"
   ]
  },
  {
   "cell_type": "code",
   "execution_count": 20,
   "id": "d65fbc11",
   "metadata": {
    "execution": {
     "iopub.execute_input": "2023-03-12T21:37:12.912803Z",
     "iopub.status.busy": "2023-03-12T21:37:12.911783Z",
     "iopub.status.idle": "2023-03-12T21:37:12.919499Z",
     "shell.execute_reply": "2023-03-12T21:37:12.918503Z"
    },
    "papermill": {
     "duration": 0.023754,
     "end_time": "2023-03-12T21:37:12.921658",
     "exception": false,
     "start_time": "2023-03-12T21:37:12.897904",
     "status": "completed"
    },
    "tags": []
   },
   "outputs": [],
   "source": [
    "def convert_row(row):\n",
    "    x = load_relevant_data_subset(os.path.join(\"/kaggle/input/asl-signs\", row.path))\n",
    "    x = feature_converter(x)\n",
    "    return x, row.label"
   ]
  },
  {
   "cell_type": "code",
   "execution_count": 21,
   "id": "e31f4bb1",
   "metadata": {
    "execution": {
     "iopub.execute_input": "2023-03-12T21:37:12.948522Z",
     "iopub.status.busy": "2023-03-12T21:37:12.947590Z",
     "iopub.status.idle": "2023-03-12T21:37:12.958819Z",
     "shell.execute_reply": "2023-03-12T21:37:12.957869Z"
    },
    "papermill": {
     "duration": 0.02699,
     "end_time": "2023-03-12T21:37:12.961028",
     "exception": false,
     "start_time": "2023-03-12T21:37:12.934038",
     "status": "completed"
    },
    "tags": []
   },
   "outputs": [],
   "source": [
    "def convert_and_save_data():\n",
    "    np_features = np.zeros((data_lenght_experiment, ROWS_PER_FRAME, 3))\n",
    "    np_labels = np.zeros(data_lenght_experiment)\n",
    "\n",
    "    print(f\"Total data to processe : {data_lenght_experiment}\")\n",
    "    for index, row in tqdm(train_df.iterrows()):\n",
    "        if index > data_lenght_experiment - 1:\n",
    "            break\n",
    "\n",
    "        data = load_relevant_data_subset(row.path)\n",
    "        feature, label = convert_row(row)\n",
    "        np_features[index, :, :] = feature\n",
    "        np_labels[index] = label\n",
    "\n",
    "    np.save(\"features.npy\", np_features)\n",
    "    np.save(\"labels.npy\", np_labels)"
   ]
  },
  {
   "cell_type": "code",
   "execution_count": 22,
   "id": "47faa905",
   "metadata": {
    "execution": {
     "iopub.execute_input": "2023-03-12T21:37:12.986278Z",
     "iopub.status.busy": "2023-03-12T21:37:12.985955Z",
     "iopub.status.idle": "2023-03-12T22:10:56.079982Z",
     "shell.execute_reply": "2023-03-12T22:10:56.078288Z"
    },
    "papermill": {
     "duration": 2023.113496,
     "end_time": "2023-03-12T22:10:56.086431",
     "exception": false,
     "start_time": "2023-03-12T21:37:12.972935",
     "status": "completed"
    },
    "tags": []
   },
   "outputs": [
    {
     "name": "stdout",
     "output_type": "stream",
     "text": [
      "Total data to processe : 94477\n"
     ]
    },
    {
     "name": "stderr",
     "output_type": "stream",
     "text": [
      "94477it [33:41, 46.74it/s]\n"
     ]
    }
   ],
   "source": [
    "try:\n",
    "    features = np.load(\"/kaggle/working/feature.npy\")\n",
    "    labels = np.load(\"/kaggle/working/label.npy\")\n",
    "except:\n",
    "    convert_and_save_data()"
   ]
  },
  {
   "cell_type": "code",
   "execution_count": 23,
   "id": "43678063",
   "metadata": {
    "execution": {
     "iopub.execute_input": "2023-03-12T22:10:58.444183Z",
     "iopub.status.busy": "2023-03-12T22:10:58.443054Z",
     "iopub.status.idle": "2023-03-12T22:11:00.600400Z",
     "shell.execute_reply": "2023-03-12T22:11:00.599141Z"
    },
    "papermill": {
     "duration": 3.074423,
     "end_time": "2023-03-12T22:11:00.603153",
     "exception": false,
     "start_time": "2023-03-12T22:10:57.528730",
     "status": "completed"
    },
    "tags": []
   },
   "outputs": [],
   "source": [
    "features = np.load(\"features.npy\")\n",
    "labels = np.load(\"labels.npy\")"
   ]
  },
  {
   "cell_type": "code",
   "execution_count": 24,
   "id": "ebf1c9ca",
   "metadata": {
    "execution": {
     "iopub.execute_input": "2023-03-12T22:11:02.556770Z",
     "iopub.status.busy": "2023-03-12T22:11:02.556371Z",
     "iopub.status.idle": "2023-03-12T22:11:02.579659Z",
     "shell.execute_reply": "2023-03-12T22:11:02.578519Z"
    },
    "papermill": {
     "duration": 1.016599,
     "end_time": "2023-03-12T22:11:02.581929",
     "exception": false,
     "start_time": "2023-03-12T22:11:01.565330",
     "status": "completed"
    },
    "tags": []
   },
   "outputs": [],
   "source": [
    "def get_model(n_labels=250, learning_rate=0.001):\n",
    "    inputs = layers.Input(shape=(ROWS_PER_FRAME, 3))\n",
    "    x = layers.Dense(128, activation=\"relu\")(inputs)\n",
    "    x = layers.Dense(64, activation=\"relu\")(x)\n",
    "    x = layers.Dense(32, activation=\"relu\")(x)\n",
    "    x = layers.Dense(16, activation=\"relu\")(x)\n",
    "    # x = layers.Dense(8, activation=\"relu\")(x)\n",
    "    x = layers.Flatten()(x)\n",
    "    output = layers.Dense(n_labels, activation=\"softmax\")(x)\n",
    "    model = tf.keras.Model(inputs=inputs, outputs=output)\n",
    "\n",
    "    model.compile(\n",
    "        loss=\"sparse_categorical_crossentropy\",\n",
    "        optimizer=tf.keras.optimizers.Adam(learning_rate=learning_rate),\n",
    "        metrics=[\"accuracy\"],\n",
    "    )\n",
    "\n",
    "    return model"
   ]
  },
  {
   "cell_type": "code",
   "execution_count": 25,
   "id": "ec3568dc",
   "metadata": {
    "execution": {
     "iopub.execute_input": "2023-03-12T22:11:04.743956Z",
     "iopub.status.busy": "2023-03-12T22:11:04.743582Z",
     "iopub.status.idle": "2023-03-12T22:11:07.195778Z",
     "shell.execute_reply": "2023-03-12T22:11:07.192037Z"
    },
    "papermill": {
     "duration": 3.350829,
     "end_time": "2023-03-12T22:11:07.199860",
     "exception": false,
     "start_time": "2023-03-12T22:11:03.849031",
     "status": "completed"
    },
    "tags": []
   },
   "outputs": [
    {
     "name": "stdout",
     "output_type": "stream",
     "text": [
      "Model: \"model\"\n",
      "_________________________________________________________________\n",
      " Layer (type)                Output Shape              Param #   \n",
      "=================================================================\n",
      " input_1 (InputLayer)        [(None, 543, 3)]          0         \n",
      "                                                                 \n",
      " dense (Dense)               (None, 543, 128)          512       \n",
      "                                                                 \n",
      " dense_1 (Dense)             (None, 543, 64)           8256      \n",
      "                                                                 \n",
      " dense_2 (Dense)             (None, 543, 32)           2080      \n",
      "                                                                 \n",
      " dense_3 (Dense)             (None, 543, 16)           528       \n",
      "                                                                 \n",
      " flatten (Flatten)           (None, 8688)              0         \n",
      "                                                                 \n",
      " dense_4 (Dense)             (None, 250)               2172250   \n",
      "                                                                 \n",
      "=================================================================\n",
      "Total params: 2,183,626\n",
      "Trainable params: 2,183,626\n",
      "Non-trainable params: 0\n",
      "_________________________________________________________________\n"
     ]
    }
   ],
   "source": [
    "es_callback = tf.keras.callbacks.EarlyStopping(\n",
    "    monitor=\"val_loss\", patience=3, restore_best_weights=True\n",
    ")\n",
    "\n",
    "checkpoint_callback = tf.keras.callbacks.ModelCheckpoint(\n",
    "    \"./ASL_model\",\n",
    "    save_best_only=True,\n",
    "    restore_best_weights=True,\n",
    "    monitor=\"val_accuracy\",\n",
    "    mode=\"max\",\n",
    "    verbose=False,\n",
    ")\n",
    "\n",
    "cb_list = [checkpoint_callback]\n",
    "\n",
    "X_train, X_val, y_train, y_val = train_test_split(\n",
    "    features, labels, test_size=0.2, stratify=labels, random_state=42\n",
    ")\n",
    "\n",
    "model = get_model()\n",
    "model.summary()"
   ]
  },
  {
   "cell_type": "code",
   "execution_count": 26,
   "id": "706ca811",
   "metadata": {
    "execution": {
     "iopub.execute_input": "2023-03-12T22:11:09.070494Z",
     "iopub.status.busy": "2023-03-12T22:11:09.069583Z",
     "iopub.status.idle": "2023-03-12T22:19:33.904851Z",
     "shell.execute_reply": "2023-03-12T22:19:33.903804Z"
    },
    "papermill": {
     "duration": 505.779845,
     "end_time": "2023-03-12T22:19:33.907468",
     "exception": false,
     "start_time": "2023-03-12T22:11:08.127623",
     "status": "completed"
    },
    "tags": []
   },
   "outputs": [
    {
     "name": "stdout",
     "output_type": "stream",
     "text": [
      "Epoch 1/50\n",
      "1181/1181 [==============================] - 16s 9ms/step - loss: 5.3063 - accuracy: 0.0208 - val_loss: 4.9327 - val_accuracy: 0.0524\n",
      "Epoch 2/50\n",
      "1181/1181 [==============================] - 10s 8ms/step - loss: 4.7241 - accuracy: 0.0761 - val_loss: 4.6019 - val_accuracy: 0.0956\n",
      "Epoch 3/50\n",
      "1181/1181 [==============================] - 10s 9ms/step - loss: 4.3757 - accuracy: 0.1167 - val_loss: 4.3580 - val_accuracy: 0.1257\n",
      "Epoch 4/50\n",
      "1181/1181 [==============================] - 10s 8ms/step - loss: 4.0537 - accuracy: 0.1605 - val_loss: 4.0995 - val_accuracy: 0.1583\n",
      "Epoch 5/50\n",
      "1181/1181 [==============================] - 10s 8ms/step - loss: 3.8124 - accuracy: 0.1960 - val_loss: 3.9236 - val_accuracy: 0.1862\n",
      "Epoch 6/50\n",
      "1181/1181 [==============================] - 10s 8ms/step - loss: 3.6125 - accuracy: 0.2260 - val_loss: 3.7872 - val_accuracy: 0.2157\n",
      "Epoch 7/50\n",
      "1181/1181 [==============================] - 10s 8ms/step - loss: 3.4437 - accuracy: 0.2551 - val_loss: 3.7136 - val_accuracy: 0.2271\n",
      "Epoch 8/50\n",
      "1181/1181 [==============================] - 9s 8ms/step - loss: 3.3159 - accuracy: 0.2752 - val_loss: 3.6520 - val_accuracy: 0.2416\n",
      "Epoch 9/50\n",
      "1181/1181 [==============================] - 10s 8ms/step - loss: 3.2016 - accuracy: 0.2951 - val_loss: 3.6312 - val_accuracy: 0.2473\n",
      "Epoch 10/50\n",
      "1181/1181 [==============================] - 10s 9ms/step - loss: 3.1006 - accuracy: 0.3099 - val_loss: 3.6384 - val_accuracy: 0.2525\n",
      "Epoch 11/50\n",
      "1181/1181 [==============================] - 9s 8ms/step - loss: 3.0107 - accuracy: 0.3247 - val_loss: 3.5767 - val_accuracy: 0.2641\n",
      "Epoch 12/50\n",
      "1181/1181 [==============================] - 9s 8ms/step - loss: 2.9331 - accuracy: 0.3369 - val_loss: 3.5773 - val_accuracy: 0.2714\n",
      "Epoch 13/50\n",
      "1181/1181 [==============================] - 9s 8ms/step - loss: 2.8655 - accuracy: 0.3487 - val_loss: 3.6251 - val_accuracy: 0.2690\n",
      "Epoch 14/50\n",
      "1181/1181 [==============================] - 9s 8ms/step - loss: 2.8017 - accuracy: 0.3604 - val_loss: 3.5869 - val_accuracy: 0.2830\n",
      "Epoch 15/50\n",
      "1181/1181 [==============================] - 8s 7ms/step - loss: 2.7436 - accuracy: 0.3688 - val_loss: 3.6152 - val_accuracy: 0.2750\n",
      "Epoch 16/50\n",
      "1181/1181 [==============================] - 9s 8ms/step - loss: 2.6875 - accuracy: 0.3806 - val_loss: 3.6102 - val_accuracy: 0.2836\n",
      "Epoch 17/50\n",
      "1181/1181 [==============================] - 10s 9ms/step - loss: 2.6345 - accuracy: 0.3909 - val_loss: 3.6518 - val_accuracy: 0.2861\n",
      "Epoch 18/50\n",
      "1181/1181 [==============================] - 10s 9ms/step - loss: 2.5935 - accuracy: 0.3945 - val_loss: 3.6606 - val_accuracy: 0.2881\n",
      "Epoch 19/50\n",
      "1181/1181 [==============================] - 8s 7ms/step - loss: 2.5440 - accuracy: 0.4052 - val_loss: 3.6237 - val_accuracy: 0.2878\n",
      "Epoch 20/50\n",
      "1181/1181 [==============================] - 10s 9ms/step - loss: 2.5015 - accuracy: 0.4149 - val_loss: 3.6021 - val_accuracy: 0.2960\n",
      "Epoch 21/50\n",
      "1181/1181 [==============================] - 10s 8ms/step - loss: 2.4662 - accuracy: 0.4188 - val_loss: 3.7072 - val_accuracy: 0.2980\n",
      "Epoch 22/50\n",
      "1181/1181 [==============================] - 9s 8ms/step - loss: 2.4273 - accuracy: 0.4272 - val_loss: 3.6958 - val_accuracy: 0.3012\n",
      "Epoch 23/50\n",
      "1181/1181 [==============================] - 9s 8ms/step - loss: 2.3868 - accuracy: 0.4357 - val_loss: 3.7306 - val_accuracy: 0.2963\n",
      "Epoch 24/50\n",
      "1181/1181 [==============================] - 8s 7ms/step - loss: 2.3577 - accuracy: 0.4411 - val_loss: 3.7228 - val_accuracy: 0.2994\n",
      "Epoch 25/50\n",
      "1181/1181 [==============================] - 10s 8ms/step - loss: 2.3218 - accuracy: 0.4488 - val_loss: 3.6849 - val_accuracy: 0.3047\n",
      "Epoch 26/50\n",
      "1181/1181 [==============================] - 8s 7ms/step - loss: 2.2918 - accuracy: 0.4551 - val_loss: 3.7016 - val_accuracy: 0.3028\n",
      "Epoch 27/50\n",
      "1181/1181 [==============================] - 10s 9ms/step - loss: 2.2642 - accuracy: 0.4599 - val_loss: 3.8199 - val_accuracy: 0.3092\n",
      "Epoch 28/50\n",
      "1181/1181 [==============================] - 8s 7ms/step - loss: 2.2305 - accuracy: 0.4647 - val_loss: 3.6698 - val_accuracy: 0.3057\n",
      "Epoch 29/50\n",
      "1181/1181 [==============================] - 8s 7ms/step - loss: 2.2030 - accuracy: 0.4703 - val_loss: 3.7388 - val_accuracy: 0.3027\n",
      "Epoch 30/50\n",
      "1181/1181 [==============================] - 8s 7ms/step - loss: 2.1749 - accuracy: 0.4772 - val_loss: 3.7500 - val_accuracy: 0.3088\n",
      "Epoch 31/50\n",
      "1181/1181 [==============================] - 9s 8ms/step - loss: 2.1466 - accuracy: 0.4801 - val_loss: 3.8429 - val_accuracy: 0.3065\n",
      "Epoch 32/50\n",
      "1181/1181 [==============================] - 8s 7ms/step - loss: 2.1162 - accuracy: 0.4881 - val_loss: 3.7801 - val_accuracy: 0.3022\n",
      "Epoch 33/50\n",
      "1181/1181 [==============================] - 8s 7ms/step - loss: 2.0875 - accuracy: 0.4949 - val_loss: 3.9066 - val_accuracy: 0.3072\n",
      "Epoch 34/50\n",
      "1181/1181 [==============================] - 8s 7ms/step - loss: 2.0630 - accuracy: 0.4999 - val_loss: 3.9216 - val_accuracy: 0.3086\n",
      "Epoch 35/50\n",
      "1181/1181 [==============================] - 10s 8ms/step - loss: 2.0380 - accuracy: 0.5044 - val_loss: 3.8122 - val_accuracy: 0.3095\n",
      "Epoch 36/50\n",
      "1181/1181 [==============================] - 10s 9ms/step - loss: 2.0178 - accuracy: 0.5090 - val_loss: 3.9701 - val_accuracy: 0.3166\n",
      "Epoch 37/50\n",
      "1181/1181 [==============================] - 8s 7ms/step - loss: 1.9860 - accuracy: 0.5149 - val_loss: 3.9811 - val_accuracy: 0.3133\n",
      "Epoch 38/50\n",
      "1181/1181 [==============================] - 9s 8ms/step - loss: 1.9669 - accuracy: 0.5176 - val_loss: 4.0630 - val_accuracy: 0.3150\n",
      "Epoch 39/50\n",
      "1181/1181 [==============================] - 8s 7ms/step - loss: 1.9371 - accuracy: 0.5236 - val_loss: 3.8993 - val_accuracy: 0.3103\n",
      "Epoch 40/50\n",
      "1181/1181 [==============================] - 8s 7ms/step - loss: 1.9159 - accuracy: 0.5286 - val_loss: 4.1086 - val_accuracy: 0.3129\n",
      "Epoch 41/50\n",
      "1181/1181 [==============================] - 8s 7ms/step - loss: 1.9029 - accuracy: 0.5307 - val_loss: 4.0480 - val_accuracy: 0.3154\n",
      "Epoch 42/50\n",
      "1181/1181 [==============================] - 9s 8ms/step - loss: 1.8754 - accuracy: 0.5364 - val_loss: 4.2310 - val_accuracy: 0.3112\n",
      "Epoch 43/50\n",
      "1181/1181 [==============================] - 8s 7ms/step - loss: 1.8537 - accuracy: 0.5429 - val_loss: 4.1854 - val_accuracy: 0.3153\n",
      "Epoch 44/50\n",
      "1181/1181 [==============================] - 8s 7ms/step - loss: 1.8338 - accuracy: 0.5474 - val_loss: 4.3804 - val_accuracy: 0.3130\n",
      "Epoch 45/50\n",
      "1181/1181 [==============================] - 8s 7ms/step - loss: 1.8109 - accuracy: 0.5513 - val_loss: 4.2600 - val_accuracy: 0.3137\n",
      "Epoch 46/50\n",
      "1181/1181 [==============================] - 9s 7ms/step - loss: 1.7927 - accuracy: 0.5542 - val_loss: 4.2261 - val_accuracy: 0.3147\n",
      "Epoch 47/50\n",
      "1181/1181 [==============================] - 8s 7ms/step - loss: 1.7756 - accuracy: 0.5569 - val_loss: 4.2788 - val_accuracy: 0.3135\n",
      "Epoch 48/50\n",
      "1181/1181 [==============================] - 8s 7ms/step - loss: 1.7553 - accuracy: 0.5628 - val_loss: 4.4884 - val_accuracy: 0.3087\n",
      "Epoch 49/50\n",
      "1181/1181 [==============================] - 9s 7ms/step - loss: 1.7334 - accuracy: 0.5664 - val_loss: 4.2242 - val_accuracy: 0.3092\n",
      "Epoch 50/50\n",
      "1181/1181 [==============================] - 9s 7ms/step - loss: 1.7210 - accuracy: 0.5699 - val_loss: 4.4631 - val_accuracy: 0.3097\n"
     ]
    }
   ],
   "source": [
    "try:\n",
    "    model = tf.keras.models.load_model(\"./ASL_mode\")\n",
    "except:\n",
    "    history = model.fit(\n",
    "        X_train,\n",
    "        y_train,\n",
    "        validation_data=(X_val, y_val),\n",
    "        epochs=50,\n",
    "        callbacks=cb_list,\n",
    "        batch_size=64,\n",
    "    )"
   ]
  },
  {
   "cell_type": "code",
   "execution_count": 27,
   "id": "fa41fc81",
   "metadata": {
    "execution": {
     "iopub.execute_input": "2023-03-12T22:19:36.490908Z",
     "iopub.status.busy": "2023-03-12T22:19:36.489873Z",
     "iopub.status.idle": "2023-03-12T22:19:42.936618Z",
     "shell.execute_reply": "2023-03-12T22:19:42.935514Z"
    },
    "papermill": {
     "duration": 7.718792,
     "end_time": "2023-03-12T22:19:42.939364",
     "exception": false,
     "start_time": "2023-03-12T22:19:35.220572",
     "status": "completed"
    },
    "tags": []
   },
   "outputs": [
    {
     "name": "stdout",
     "output_type": "stream",
     "text": [
      "591/591 [==============================] - 3s 5ms/step - loss: 3.9701 - accuracy: 0.3166\n"
     ]
    }
   ],
   "source": [
    "model = tf.keras.models.load_model(\"./ASL_model\")\n",
    "score = model.evaluate(X_val, y_val)"
   ]
  },
  {
   "cell_type": "markdown",
   "id": "e6566265",
   "metadata": {
    "papermill": {
     "duration": 1.208228,
     "end_time": "2023-03-12T22:19:45.499258",
     "exception": false,
     "start_time": "2023-03-12T22:19:44.291030",
     "status": "completed"
    },
    "tags": []
   },
   "source": [
    "- guessing = 1/250 = 0.004 \n",
    "- acc score = 0.3185 (with full data)\n",
    "\n",
    "**this first model is better than a guessing model**"
   ]
  },
  {
   "cell_type": "code",
   "execution_count": 28,
   "id": "b67440d6",
   "metadata": {
    "execution": {
     "iopub.execute_input": "2023-03-12T22:19:48.072215Z",
     "iopub.status.busy": "2023-03-12T22:19:48.071165Z",
     "iopub.status.idle": "2023-03-12T22:19:48.084574Z",
     "shell.execute_reply": "2023-03-12T22:19:48.083399Z"
    },
    "papermill": {
     "duration": 1.31778,
     "end_time": "2023-03-12T22:19:48.086809",
     "exception": false,
     "start_time": "2023-03-12T22:19:46.769029",
     "status": "completed"
    },
    "tags": []
   },
   "outputs": [],
   "source": [
    "def get_inference_model(model):\n",
    "    inputs = tf.keras.Input((543, 3), dtype=tf.float32, name=\"inputs\")\n",
    "    x = tf.where(tf.math.is_nan(inputs), tf.zeros_like(inputs), inputs)\n",
    "    x = tf.reduce_mean(x, axis=0, keepdims=True)\n",
    "    x = model(x)\n",
    "    output = tf.keras.layers.Activation(activation=\"linear\", name=\"outputs\")(x)\n",
    "    inference_model = tf.keras.Model(inputs=inputs, outputs=output)\n",
    "    inference_model.compile(\n",
    "        loss=tf.keras.losses.SparseCategoricalCrossentropy(), metrics=[\"accuracy\"]\n",
    "    )\n",
    "    return inference_model"
   ]
  },
  {
   "cell_type": "code",
   "execution_count": 29,
   "id": "b2d0f383",
   "metadata": {
    "execution": {
     "iopub.execute_input": "2023-03-12T22:19:50.687831Z",
     "iopub.status.busy": "2023-03-12T22:19:50.687445Z",
     "iopub.status.idle": "2023-03-12T22:19:50.827164Z",
     "shell.execute_reply": "2023-03-12T22:19:50.825458Z"
    },
    "papermill": {
     "duration": 1.460169,
     "end_time": "2023-03-12T22:19:50.854627",
     "exception": false,
     "start_time": "2023-03-12T22:19:49.394458",
     "status": "completed"
    },
    "tags": []
   },
   "outputs": [
    {
     "name": "stdout",
     "output_type": "stream",
     "text": [
      "Model: \"model_1\"\n",
      "__________________________________________________________________________________________________\n",
      " Layer (type)                   Output Shape         Param #     Connected to                     \n",
      "==================================================================================================\n",
      " inputs (InputLayer)            [(None, 543, 3)]     0           []                               \n",
      "                                                                                                  \n",
      " tf.math.is_nan (TFOpLambda)    (None, 543, 3)       0           ['inputs[0][0]']                 \n",
      "                                                                                                  \n",
      " tf.zeros_like (TFOpLambda)     (None, 543, 3)       0           ['inputs[0][0]']                 \n",
      "                                                                                                  \n",
      " tf.where (TFOpLambda)          (None, 543, 3)       0           ['tf.math.is_nan[0][0]',         \n",
      "                                                                  'tf.zeros_like[0][0]',          \n",
      "                                                                  'inputs[0][0]']                 \n",
      "                                                                                                  \n",
      " tf.math.reduce_mean (TFOpLambd  (1, 543, 3)         0           ['tf.where[0][0]']               \n",
      " a)                                                                                               \n",
      "                                                                                                  \n",
      " model (Functional)             (None, 250)          2183626     ['tf.math.reduce_mean[0][0]']    \n",
      "                                                                                                  \n",
      " outputs (Activation)           (1, 250)             0           ['model[0][0]']                  \n",
      "                                                                                                  \n",
      "==================================================================================================\n",
      "Total params: 2,183,626\n",
      "Trainable params: 2,183,626\n",
      "Non-trainable params: 0\n",
      "__________________________________________________________________________________________________\n"
     ]
    }
   ],
   "source": [
    "inference_model = get_inference_model(model)\n",
    "inference_model.summary()"
   ]
  },
  {
   "cell_type": "code",
   "execution_count": 30,
   "id": "bae9188c",
   "metadata": {
    "execution": {
     "iopub.execute_input": "2023-03-12T22:19:53.577995Z",
     "iopub.status.busy": "2023-03-12T22:19:53.577618Z",
     "iopub.status.idle": "2023-03-12T22:19:56.030611Z",
     "shell.execute_reply": "2023-03-12T22:19:56.029427Z"
    },
    "papermill": {
     "duration": 3.730184,
     "end_time": "2023-03-12T22:19:56.033582",
     "exception": false,
     "start_time": "2023-03-12T22:19:52.303398",
     "status": "completed"
    },
    "tags": []
   },
   "outputs": [],
   "source": [
    "converter = tf.lite.TFLiteConverter.from_keras_model(inference_model)\n",
    "tflite_model = converter.convert()\n",
    "model_path = \"model.tflite\"\n",
    "# Save the model.\n",
    "with open(model_path, \"wb\") as f:\n",
    "    f.write(tflite_model)"
   ]
  },
  {
   "cell_type": "code",
   "execution_count": 31,
   "id": "374a72bf",
   "metadata": {
    "execution": {
     "iopub.execute_input": "2023-03-12T22:19:58.609196Z",
     "iopub.status.busy": "2023-03-12T22:19:58.608829Z",
     "iopub.status.idle": "2023-03-12T22:20:00.091214Z",
     "shell.execute_reply": "2023-03-12T22:20:00.090036Z"
    },
    "papermill": {
     "duration": 2.769675,
     "end_time": "2023-03-12T22:20:00.093786",
     "exception": false,
     "start_time": "2023-03-12T22:19:57.324111",
     "status": "completed"
    },
    "tags": []
   },
   "outputs": [
    {
     "name": "stdout",
     "output_type": "stream",
     "text": [
      "  adding: model.tflite (deflated 6%)\r\n"
     ]
    }
   ],
   "source": [
    "!zip submission.zip $model_path"
   ]
  },
  {
   "cell_type": "code",
   "execution_count": null,
   "id": "47527662",
   "metadata": {
    "papermill": {
     "duration": 1.494477,
     "end_time": "2023-03-12T22:20:02.807660",
     "exception": false,
     "start_time": "2023-03-12T22:20:01.313183",
     "status": "completed"
    },
    "tags": []
   },
   "outputs": [],
   "source": []
  }
 ],
 "metadata": {
  "kernelspec": {
   "display_name": "Python 3",
   "language": "python",
   "name": "python3"
  },
  "language_info": {
   "codemirror_mode": {
    "name": "ipython",
    "version": 3
   },
   "file_extension": ".py",
   "mimetype": "text/x-python",
   "name": "python",
   "nbconvert_exporter": "python",
   "pygments_lexer": "ipython3",
   "version": "3.7.12"
  },
  "papermill": {
   "default_parameters": {},
   "duration": 2610.398804,
   "end_time": "2023-03-12T22:20:07.513990",
   "environment_variables": {},
   "exception": null,
   "input_path": "__notebook__.ipynb",
   "output_path": "__notebook__.ipynb",
   "parameters": {},
   "start_time": "2023-03-12T21:36:37.115186",
   "version": "2.4.0"
  }
 },
 "nbformat": 4,
 "nbformat_minor": 5
}
