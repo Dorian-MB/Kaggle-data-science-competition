{
 "cells": [
  {
   "cell_type": "markdown",
   "id": "6fafec7e",
   "metadata": {
    "papermill": {
     "duration": 0.018232,
     "end_time": "2023-04-01T13:43:50.882673",
     "exception": false,
     "start_time": "2023-04-01T13:43:50.864441",
     "status": "completed"
    },
    "tags": []
   },
   "source": [
    "# Isolated Sign Language Recognition : dive in \n",
    "\n",
    "This notebook is the continuation of my previous notebook [here](https://www.kaggle.com/code/dorianmb/isolated-sign-language-recognition-quick-start?scriptVersionId=121909882)\n",
    "\n"
   ]
  },
  {
   "cell_type": "markdown",
   "id": "afcdf054",
   "metadata": {
    "papermill": {
     "duration": 0.016201,
     "end_time": "2023-04-01T13:43:50.915358",
     "exception": false,
     "start_time": "2023-04-01T13:43:50.899157",
     "status": "completed"
    },
    "tags": []
   },
   "source": [
    "# Credits\n",
    "\n",
    "Notebook that help me : \n",
    "- [NGHI HUYNH's notebook](https://www.kaggle.com/code/nghihuynh/gislr-eda-feature-processing)\n",
    "- [ROBERT HATCH' notbook](https://www.kaggle.com/code/roberthatch/gislr-lb-0-63-on-the-shoulders/notebook#PREPROCESSING)\n",
    "- [JVTHUNDER's notebook](https://www.kaggle.com/code/jvthunder/lstm-baseline-for-starters-sign-language)\n"
   ]
  },
  {
   "cell_type": "markdown",
   "id": "3c2c208b",
   "metadata": {
    "papermill": {
     "duration": 0.016446,
     "end_time": "2023-04-01T13:43:50.948353",
     "exception": false,
     "start_time": "2023-04-01T13:43:50.931907",
     "status": "completed"
    },
    "tags": []
   },
   "source": [
    "# As newbie on kaggle, I am open to any suggestion for improvement."
   ]
  },
  {
   "cell_type": "markdown",
   "id": "2a281d7a",
   "metadata": {
    "papermill": {
     "duration": 0.01633,
     "end_time": "2023-04-01T13:43:50.982979",
     "exception": false,
     "start_time": "2023-04-01T13:43:50.966649",
     "status": "completed"
    },
    "tags": []
   },
   "source": [
    "# Import"
   ]
  },
  {
   "cell_type": "code",
   "execution_count": 1,
   "id": "5dfa1288",
   "metadata": {
    "_cell_guid": "b1076dfc-b9ad-4769-8c92-a6c4dae69d19",
    "_uuid": "8f2839f25d086af736a60e9eeb907d3b93b6e0e5",
    "execution": {
     "iopub.execute_input": "2023-04-01T13:43:51.018741Z",
     "iopub.status.busy": "2023-04-01T13:43:51.017665Z",
     "iopub.status.idle": "2023-04-01T13:43:58.946175Z",
     "shell.execute_reply": "2023-04-01T13:43:58.945084Z"
    },
    "papermill": {
     "duration": 7.949264,
     "end_time": "2023-04-01T13:43:58.948831",
     "exception": false,
     "start_time": "2023-04-01T13:43:50.999567",
     "status": "completed"
    },
    "tags": []
   },
   "outputs": [],
   "source": [
    "import numpy as np\n",
    "import pandas as pd\n",
    "import matplotlib.pyplot as plt\n",
    "from tqdm.notebook import tqdm\n",
    "\n",
    "import tensorflow as tf\n",
    "from tensorflow.keras import layers\n",
    "from sklearn.model_selection import train_test_split\n",
    "\n",
    "import os\n",
    "import random\n",
    "import json"
   ]
  },
  {
   "cell_type": "markdown",
   "id": "76a391ef",
   "metadata": {
    "execution": {
     "iopub.execute_input": "2023-03-25T13:16:05.131994Z",
     "iopub.status.busy": "2023-03-25T13:16:05.130957Z",
     "iopub.status.idle": "2023-03-25T13:16:20.242363Z",
     "shell.execute_reply": "2023-03-25T13:16:20.241128Z",
     "shell.execute_reply.started": "2023-03-25T13:16:05.131954Z"
    },
    "papermill": {
     "duration": 0.011023,
     "end_time": "2023-04-01T13:43:58.971259",
     "exception": false,
     "start_time": "2023-04-01T13:43:58.960236",
     "status": "completed"
    },
    "tags": []
   },
   "source": [
    "## Install nb_black for autoformatting\n",
    "!pip install nb_black --quiet\n",
    "%load_ext lab_black"
   ]
  },
  {
   "cell_type": "code",
   "execution_count": 2,
   "id": "5b166ed5",
   "metadata": {
    "execution": {
     "iopub.execute_input": "2023-04-01T13:43:58.995856Z",
     "iopub.status.busy": "2023-04-01T13:43:58.994764Z",
     "iopub.status.idle": "2023-04-01T13:43:59.001397Z",
     "shell.execute_reply": "2023-04-01T13:43:59.000308Z"
    },
    "papermill": {
     "duration": 0.021203,
     "end_time": "2023-04-01T13:43:59.003508",
     "exception": false,
     "start_time": "2023-04-01T13:43:58.982305",
     "status": "completed"
    },
    "tags": []
   },
   "outputs": [
    {
     "name": "stdout",
     "output_type": "stream",
     "text": [
      "tensorflow version :  2.11.0\n"
     ]
    }
   ],
   "source": [
    "print(\"tensorflow version : \", tf.__version__)"
   ]
  },
  {
   "cell_type": "markdown",
   "id": "4a74855a",
   "metadata": {
    "papermill": {
     "duration": 0.010943,
     "end_time": "2023-04-01T13:43:59.025681",
     "exception": false,
     "start_time": "2023-04-01T13:43:59.014738",
     "status": "completed"
    },
    "tags": []
   },
   "source": [
    "# Set-up & Reproducible"
   ]
  },
  {
   "cell_type": "code",
   "execution_count": 3,
   "id": "08faa841",
   "metadata": {
    "execution": {
     "iopub.execute_input": "2023-04-01T13:43:59.050318Z",
     "iopub.status.busy": "2023-04-01T13:43:59.049367Z",
     "iopub.status.idle": "2023-04-01T13:43:59.054538Z",
     "shell.execute_reply": "2023-04-01T13:43:59.053651Z"
    },
    "papermill": {
     "duration": 0.019386,
     "end_time": "2023-04-01T13:43:59.056601",
     "exception": false,
     "start_time": "2023-04-01T13:43:59.037215",
     "status": "completed"
    },
    "tags": []
   },
   "outputs": [],
   "source": [
    "# Constante\n",
    "SEED = 42\n",
    "ROWS_PER_FRAME = 543\n",
    "data_dir = \"/kaggle/input/asl-signs\"\n",
    "landmark_fimes_dir = \"/kaggle/input/asl-signs/train_landmark_files\""
   ]
  },
  {
   "cell_type": "code",
   "execution_count": 4,
   "id": "f60c6cd5",
   "metadata": {
    "execution": {
     "iopub.execute_input": "2023-04-01T13:43:59.080011Z",
     "iopub.status.busy": "2023-04-01T13:43:59.079739Z",
     "iopub.status.idle": "2023-04-01T13:43:59.085005Z",
     "shell.execute_reply": "2023-04-01T13:43:59.083957Z"
    },
    "papermill": {
     "duration": 0.019357,
     "end_time": "2023-04-01T13:43:59.087107",
     "exception": false,
     "start_time": "2023-04-01T13:43:59.067750",
     "status": "completed"
    },
    "tags": []
   },
   "outputs": [],
   "source": [
    "def seed_it_all(seed=SEED):\n",
    "    os.environ[\"PYTHONHASHSEED\"] = str(seed)\n",
    "    random.seed(seed)\n",
    "    np.random.seed(seed)\n",
    "    tf.random.set_seed(seed)\n",
    "\n",
    "\n",
    "seed_it_all()  # Reproducible"
   ]
  },
  {
   "cell_type": "code",
   "execution_count": 5,
   "id": "8fa3d815",
   "metadata": {
    "execution": {
     "iopub.execute_input": "2023-04-01T13:43:59.110486Z",
     "iopub.status.busy": "2023-04-01T13:43:59.110220Z",
     "iopub.status.idle": "2023-04-01T13:43:59.115319Z",
     "shell.execute_reply": "2023-04-01T13:43:59.114318Z"
    },
    "papermill": {
     "duration": 0.019321,
     "end_time": "2023-04-01T13:43:59.117496",
     "exception": false,
     "start_time": "2023-04-01T13:43:59.098175",
     "status": "completed"
    },
    "tags": []
   },
   "outputs": [],
   "source": [
    "def load_relevant_data_subset(pq_path):\n",
    "    data_columns = [\"x\", \"y\", \"z\"]\n",
    "    data = pd.read_parquet(pq_path, columns=data_columns)\n",
    "    n_frames = int(len(data) / ROWS_PER_FRAME)\n",
    "    data = data.values.reshape(n_frames, ROWS_PER_FRAME, len(data_columns))\n",
    "    return data.astype(np.float32)"
   ]
  },
  {
   "cell_type": "code",
   "execution_count": 6,
   "id": "d5abd90e",
   "metadata": {
    "execution": {
     "iopub.execute_input": "2023-04-01T13:43:59.142815Z",
     "iopub.status.busy": "2023-04-01T13:43:59.141163Z",
     "iopub.status.idle": "2023-04-01T13:43:59.146578Z",
     "shell.execute_reply": "2023-04-01T13:43:59.145671Z"
    },
    "papermill": {
     "duration": 0.020076,
     "end_time": "2023-04-01T13:43:59.148621",
     "exception": false,
     "start_time": "2023-04-01T13:43:59.128545",
     "status": "completed"
    },
    "tags": []
   },
   "outputs": [],
   "source": [
    "def read_json(path):\n",
    "    with open(path, \"r\") as file:\n",
    "        json_data = json.load(file)\n",
    "    return json_data"
   ]
  },
  {
   "cell_type": "markdown",
   "id": "aa345197",
   "metadata": {
    "papermill": {
     "duration": 0.011028,
     "end_time": "2023-04-01T13:43:59.170829",
     "exception": false,
     "start_time": "2023-04-01T13:43:59.159801",
     "status": "completed"
    },
    "tags": []
   },
   "source": [
    "# Load data"
   ]
  },
  {
   "cell_type": "code",
   "execution_count": 7,
   "id": "e43af0e5",
   "metadata": {
    "execution": {
     "iopub.execute_input": "2023-04-01T13:43:59.194448Z",
     "iopub.status.busy": "2023-04-01T13:43:59.194155Z",
     "iopub.status.idle": "2023-04-01T13:43:59.447957Z",
     "shell.execute_reply": "2023-04-01T13:43:59.446903Z"
    },
    "papermill": {
     "duration": 0.268091,
     "end_time": "2023-04-01T13:43:59.450104",
     "exception": false,
     "start_time": "2023-04-01T13:43:59.182013",
     "status": "completed"
    },
    "tags": []
   },
   "outputs": [
    {
     "data": {
      "text/html": [
       "<div>\n",
       "<style scoped>\n",
       "    .dataframe tbody tr th:only-of-type {\n",
       "        vertical-align: middle;\n",
       "    }\n",
       "\n",
       "    .dataframe tbody tr th {\n",
       "        vertical-align: top;\n",
       "    }\n",
       "\n",
       "    .dataframe thead th {\n",
       "        text-align: right;\n",
       "    }\n",
       "</style>\n",
       "<table border=\"1\" class=\"dataframe\">\n",
       "  <thead>\n",
       "    <tr style=\"text-align: right;\">\n",
       "      <th></th>\n",
       "      <th>path</th>\n",
       "      <th>participant_id</th>\n",
       "      <th>sequence_id</th>\n",
       "      <th>sign</th>\n",
       "    </tr>\n",
       "  </thead>\n",
       "  <tbody>\n",
       "    <tr>\n",
       "      <th>0</th>\n",
       "      <td>/kaggle/input/asl-signs/train_landmark_files/2...</td>\n",
       "      <td>26734</td>\n",
       "      <td>1000035562</td>\n",
       "      <td>blow</td>\n",
       "    </tr>\n",
       "    <tr>\n",
       "      <th>1</th>\n",
       "      <td>/kaggle/input/asl-signs/train_landmark_files/2...</td>\n",
       "      <td>28656</td>\n",
       "      <td>1000106739</td>\n",
       "      <td>wait</td>\n",
       "    </tr>\n",
       "  </tbody>\n",
       "</table>\n",
       "</div>"
      ],
      "text/plain": [
       "                                                path  participant_id  \\\n",
       "0  /kaggle/input/asl-signs/train_landmark_files/2...           26734   \n",
       "1  /kaggle/input/asl-signs/train_landmark_files/2...           28656   \n",
       "\n",
       "   sequence_id  sign  \n",
       "0   1000035562  blow  \n",
       "1   1000106739  wait  "
      ]
     },
     "metadata": {},
     "output_type": "display_data"
    },
    {
     "data": {
      "text/plain": [
       "(None, 94477)"
      ]
     },
     "execution_count": 7,
     "metadata": {},
     "output_type": "execute_result"
    }
   ],
   "source": [
    "path_train_df = pd.read_csv(data_dir + \"/train.csv\")\n",
    "path_train_df[\"path\"] = data_dir + \"/\" + path_train_df[\"path\"]\n",
    "display(path_train_df.head(2)), len(path_train_df)"
   ]
  },
  {
   "cell_type": "code",
   "execution_count": 8,
   "id": "187fc597",
   "metadata": {
    "execution": {
     "iopub.execute_input": "2023-04-01T13:43:59.474821Z",
     "iopub.status.busy": "2023-04-01T13:43:59.474502Z",
     "iopub.status.idle": "2023-04-01T13:43:59.530083Z",
     "shell.execute_reply": "2023-04-01T13:43:59.529002Z"
    },
    "papermill": {
     "duration": 0.071101,
     "end_time": "2023-04-01T13:43:59.533286",
     "exception": false,
     "start_time": "2023-04-01T13:43:59.462185",
     "status": "completed"
    },
    "tags": []
   },
   "outputs": [
    {
     "data": {
      "text/html": [
       "<div>\n",
       "<style scoped>\n",
       "    .dataframe tbody tr th:only-of-type {\n",
       "        vertical-align: middle;\n",
       "    }\n",
       "\n",
       "    .dataframe tbody tr th {\n",
       "        vertical-align: top;\n",
       "    }\n",
       "\n",
       "    .dataframe thead th {\n",
       "        text-align: right;\n",
       "    }\n",
       "</style>\n",
       "<table border=\"1\" class=\"dataframe\">\n",
       "  <thead>\n",
       "    <tr style=\"text-align: right;\">\n",
       "      <th></th>\n",
       "      <th>path</th>\n",
       "      <th>participant_id</th>\n",
       "      <th>sequence_id</th>\n",
       "      <th>sign</th>\n",
       "      <th>label</th>\n",
       "    </tr>\n",
       "  </thead>\n",
       "  <tbody>\n",
       "    <tr>\n",
       "      <th>0</th>\n",
       "      <td>/kaggle/input/asl-signs/train_landmark_files/2...</td>\n",
       "      <td>26734</td>\n",
       "      <td>1000035562</td>\n",
       "      <td>blow</td>\n",
       "      <td>25</td>\n",
       "    </tr>\n",
       "    <tr>\n",
       "      <th>1</th>\n",
       "      <td>/kaggle/input/asl-signs/train_landmark_files/2...</td>\n",
       "      <td>28656</td>\n",
       "      <td>1000106739</td>\n",
       "      <td>wait</td>\n",
       "      <td>232</td>\n",
       "    </tr>\n",
       "  </tbody>\n",
       "</table>\n",
       "</div>"
      ],
      "text/plain": [
       "                                                path  participant_id  \\\n",
       "0  /kaggle/input/asl-signs/train_landmark_files/2...           26734   \n",
       "1  /kaggle/input/asl-signs/train_landmark_files/2...           28656   \n",
       "\n",
       "   sequence_id  sign  label  \n",
       "0   1000035562  blow     25  \n",
       "1   1000106739  wait    232  "
      ]
     },
     "metadata": {},
     "output_type": "display_data"
    },
    {
     "data": {
      "text/plain": [
       "(None, (94477, 5))"
      ]
     },
     "execution_count": 8,
     "metadata": {},
     "output_type": "execute_result"
    }
   ],
   "source": [
    "s2p_map = read_json(os.path.join(data_dir, \"sign_to_prediction_index_map.json\"))\n",
    "p2s_map = {v: k for k, v in s2p_map.items()}\n",
    "\n",
    "encoder = lambda x: s2p_map.get(x)\n",
    "decoder = lambda x: p2s_map.get(x)\n",
    "\n",
    "path_train_df[\"label\"] = path_train_df[\"sign\"].map(encoder)\n",
    "\n",
    "display(path_train_df.head(2)), path_train_df.shape"
   ]
  },
  {
   "cell_type": "code",
   "execution_count": 9,
   "id": "5ae2cc01",
   "metadata": {
    "execution": {
     "iopub.execute_input": "2023-04-01T13:43:59.558056Z",
     "iopub.status.busy": "2023-04-01T13:43:59.557571Z",
     "iopub.status.idle": "2023-04-01T13:43:59.655828Z",
     "shell.execute_reply": "2023-04-01T13:43:59.654675Z"
    },
    "papermill": {
     "duration": 0.11299,
     "end_time": "2023-04-01T13:43:59.658098",
     "exception": false,
     "start_time": "2023-04-01T13:43:59.545108",
     "status": "completed"
    },
    "tags": []
   },
   "outputs": [
    {
     "data": {
      "text/html": [
       "<div>\n",
       "<style scoped>\n",
       "    .dataframe tbody tr th:only-of-type {\n",
       "        vertical-align: middle;\n",
       "    }\n",
       "\n",
       "    .dataframe tbody tr th {\n",
       "        vertical-align: top;\n",
       "    }\n",
       "\n",
       "    .dataframe thead th {\n",
       "        text-align: right;\n",
       "    }\n",
       "</style>\n",
       "<table border=\"1\" class=\"dataframe\">\n",
       "  <thead>\n",
       "    <tr style=\"text-align: right;\">\n",
       "      <th></th>\n",
       "      <th>frame</th>\n",
       "      <th>row_id</th>\n",
       "      <th>type</th>\n",
       "      <th>landmark_index</th>\n",
       "      <th>x</th>\n",
       "      <th>y</th>\n",
       "      <th>z</th>\n",
       "    </tr>\n",
       "  </thead>\n",
       "  <tbody>\n",
       "    <tr>\n",
       "      <th>0</th>\n",
       "      <td>20</td>\n",
       "      <td>20-face-0</td>\n",
       "      <td>face</td>\n",
       "      <td>0</td>\n",
       "      <td>0.494400</td>\n",
       "      <td>0.380470</td>\n",
       "      <td>-0.030626</td>\n",
       "    </tr>\n",
       "    <tr>\n",
       "      <th>1</th>\n",
       "      <td>20</td>\n",
       "      <td>20-face-1</td>\n",
       "      <td>face</td>\n",
       "      <td>1</td>\n",
       "      <td>0.496017</td>\n",
       "      <td>0.350735</td>\n",
       "      <td>-0.057565</td>\n",
       "    </tr>\n",
       "    <tr>\n",
       "      <th>2</th>\n",
       "      <td>20</td>\n",
       "      <td>20-face-2</td>\n",
       "      <td>face</td>\n",
       "      <td>2</td>\n",
       "      <td>0.500818</td>\n",
       "      <td>0.359343</td>\n",
       "      <td>-0.030283</td>\n",
       "    </tr>\n",
       "    <tr>\n",
       "      <th>3</th>\n",
       "      <td>20</td>\n",
       "      <td>20-face-3</td>\n",
       "      <td>face</td>\n",
       "      <td>3</td>\n",
       "      <td>0.489788</td>\n",
       "      <td>0.321780</td>\n",
       "      <td>-0.040622</td>\n",
       "    </tr>\n",
       "    <tr>\n",
       "      <th>4</th>\n",
       "      <td>20</td>\n",
       "      <td>20-face-4</td>\n",
       "      <td>face</td>\n",
       "      <td>4</td>\n",
       "      <td>0.495304</td>\n",
       "      <td>0.341821</td>\n",
       "      <td>-0.061152</td>\n",
       "    </tr>\n",
       "  </tbody>\n",
       "</table>\n",
       "</div>"
      ],
      "text/plain": [
       "   frame     row_id  type  landmark_index         x         y         z\n",
       "0     20  20-face-0  face               0  0.494400  0.380470 -0.030626\n",
       "1     20  20-face-1  face               1  0.496017  0.350735 -0.057565\n",
       "2     20  20-face-2  face               2  0.500818  0.359343 -0.030283\n",
       "3     20  20-face-3  face               3  0.489788  0.321780 -0.040622\n",
       "4     20  20-face-4  face               4  0.495304  0.341821 -0.061152"
      ]
     },
     "execution_count": 9,
     "metadata": {},
     "output_type": "execute_result"
    }
   ],
   "source": [
    "sample = pd.read_parquet(path_train_df.path[0])\n",
    "sample.head()"
   ]
  },
  {
   "cell_type": "markdown",
   "id": "370ad138",
   "metadata": {
    "papermill": {
     "duration": 0.011677,
     "end_time": "2023-04-01T13:43:59.682167",
     "exception": false,
     "start_time": "2023-04-01T13:43:59.670490",
     "status": "completed"
    },
    "tags": []
   },
   "source": [
    "**need to select usefull Landmark index**"
   ]
  },
  {
   "cell_type": "markdown",
   "id": "18c0b8f3",
   "metadata": {
    "papermill": {
     "duration": 0.011584,
     "end_time": "2023-04-01T13:43:59.705531",
     "exception": false,
     "start_time": "2023-04-01T13:43:59.693947",
     "status": "completed"
    },
    "tags": []
   },
   "source": [
    "# Quick EDA and Preprocessing"
   ]
  },
  {
   "cell_type": "markdown",
   "id": "d0bc82d4",
   "metadata": {
    "papermill": {
     "duration": 0.011581,
     "end_time": "2023-04-01T13:43:59.729090",
     "exception": false,
     "start_time": "2023-04-01T13:43:59.717509",
     "status": "completed"
    },
    "tags": []
   },
   "source": [
    "## Distribution of number of frame per sequence over the dataset"
   ]
  },
  {
   "cell_type": "code",
   "execution_count": 10,
   "id": "ae0264bd",
   "metadata": {
    "execution": {
     "iopub.execute_input": "2023-04-01T13:43:59.754331Z",
     "iopub.status.busy": "2023-04-01T13:43:59.753961Z",
     "iopub.status.idle": "2023-04-01T13:44:13.267643Z",
     "shell.execute_reply": "2023-04-01T13:44:13.266673Z"
    },
    "papermill": {
     "duration": 13.529236,
     "end_time": "2023-04-01T13:44:13.270221",
     "exception": false,
     "start_time": "2023-04-01T13:43:59.740985",
     "status": "completed"
    },
    "tags": []
   },
   "outputs": [
    {
     "data": {
      "application/vnd.jupyter.widget-view+json": {
       "model_id": "2607ef8a3cd04a2d8fa86f8d58aaf043",
       "version_major": 2,
       "version_minor": 0
      },
      "text/plain": [
       "  0%|          | 0/944 [00:00<?, ?it/s]"
      ]
     },
     "metadata": {},
     "output_type": "display_data"
    }
   ],
   "source": [
    "# let's check the distribution of n_frame over the dataset\n",
    "distribution_lenght = int(len(path_train_df) / 100)\n",
    "frames = np.zeros(distribution_lenght)\n",
    "for index, row in tqdm(path_train_df.iterrows(), total=distribution_lenght):\n",
    "    if index > distribution_lenght - 1:\n",
    "        break\n",
    "    x = load_relevant_data_subset(row.path)\n",
    "    frames[index] = x.shape[0]"
   ]
  },
  {
   "cell_type": "code",
   "execution_count": 11,
   "id": "e7c03c6c",
   "metadata": {
    "execution": {
     "iopub.execute_input": "2023-04-01T13:44:13.296029Z",
     "iopub.status.busy": "2023-04-01T13:44:13.295720Z",
     "iopub.status.idle": "2023-04-01T13:44:13.303406Z",
     "shell.execute_reply": "2023-04-01T13:44:13.301851Z"
    },
    "papermill": {
     "duration": 0.023507,
     "end_time": "2023-04-01T13:44:13.306137",
     "exception": false,
     "start_time": "2023-04-01T13:44:13.282630",
     "status": "completed"
    },
    "tags": []
   },
   "outputs": [
    {
     "name": "stdout",
     "output_type": "stream",
     "text": [
      "----------------------------------------------------\n",
      "minimum frames in sequence :  3.0\n",
      "maximum frames in sequence :  311.0\n",
      "mean of frames in the first 944 sequences 38.4396186440678\n",
      "median of frames in the first 944 sequences 23.0\n",
      "----------------------------------------------------\n"
     ]
    }
   ],
   "source": [
    "print(\"----------------------------------------------------\")\n",
    "print(\"minimum frames in sequence : \", frames.min())\n",
    "print(\"maximum frames in sequence : \", frames.max())\n",
    "print(f\"mean of frames in the first {distribution_lenght} sequences\", frames.mean())\n",
    "print(f\"median of frames in the first {distribution_lenght} sequences\", np.median(frames))\n",
    "print(\"----------------------------------------------------\")"
   ]
  },
  {
   "cell_type": "code",
   "execution_count": 12,
   "id": "180b973b",
   "metadata": {
    "execution": {
     "iopub.execute_input": "2023-04-01T13:44:13.331745Z",
     "iopub.status.busy": "2023-04-01T13:44:13.331447Z",
     "iopub.status.idle": "2023-04-01T13:44:13.909738Z",
     "shell.execute_reply": "2023-04-01T13:44:13.908687Z"
    },
    "papermill": {
     "duration": 0.59336,
     "end_time": "2023-04-01T13:44:13.912062",
     "exception": false,
     "start_time": "2023-04-01T13:44:13.318702",
     "status": "completed"
    },
    "tags": []
   },
   "outputs": [
    {
     "data": {
      "image/png": "[encoded data removed]",
      "text/plain": [
       "<Figure size 1000x500 with 1 Axes>"
      ]
     },
     "metadata": {},
     "output_type": "display_data"
    }
   ],
   "source": [
    "plt.figure(figsize=(10, 5))\n",
    "hist = plt.hist(frames, bins=100)\n",
    "\n",
    "median = np.median(frames)\n",
    "plt.plot(\n",
    "    [median, median],\n",
    "    [0, hist[0].max()],\n",
    "    \"--\",\n",
    "    c=\"red\",\n",
    "    linewidth=2,\n",
    "    label=f\"Median={median:.0f} frames\",\n",
    ")\n",
    "\n",
    "plt.title(\"Distribution of number of frame per sequence over the dataset\")\n",
    "plt.xlabel(\"n-frames in one sequence\")\n",
    "plt.ylabel(\"Number of sequence with n-frames\")\n",
    "\n",
    "plt.legend()\n",
    "plt.show()"
   ]
  },
  {
   "cell_type": "code",
   "execution_count": 13,
   "id": "39dfaf74",
   "metadata": {
    "execution": {
     "iopub.execute_input": "2023-04-01T13:44:13.938740Z",
     "iopub.status.busy": "2023-04-01T13:44:13.938424Z",
     "iopub.status.idle": "2023-04-01T13:44:13.946533Z",
     "shell.execute_reply": "2023-04-01T13:44:13.945623Z"
    },
    "papermill": {
     "duration": 0.023822,
     "end_time": "2023-04-01T13:44:13.948787",
     "exception": false,
     "start_time": "2023-04-01T13:44:13.924965",
     "status": "completed"
    },
    "tags": []
   },
   "outputs": [
    {
     "data": {
      "text/plain": [
       "13"
      ]
     },
     "execution_count": 13,
     "metadata": {},
     "output_type": "execute_result"
    }
   ],
   "source": [
    "int(np.percentile(frames, 25))"
   ]
  },
  {
   "cell_type": "markdown",
   "id": "b36cc909",
   "metadata": {
    "papermill": {
     "duration": 0.012479,
     "end_time": "2023-04-01T13:44:13.973787",
     "exception": false,
     "start_time": "2023-04-01T13:44:13.961308",
     "status": "completed"
    },
    "tags": []
   },
   "source": [
    "## Herlper function"
   ]
  },
  {
   "cell_type": "code",
   "execution_count": 14,
   "id": "9b009767",
   "metadata": {
    "execution": {
     "iopub.execute_input": "2023-04-01T13:44:14.000743Z",
     "iopub.status.busy": "2023-04-01T13:44:13.999662Z",
     "iopub.status.idle": "2023-04-01T13:44:14.006858Z",
     "shell.execute_reply": "2023-04-01T13:44:14.005948Z"
    },
    "papermill": {
     "duration": 0.022626,
     "end_time": "2023-04-01T13:44:14.008861",
     "exception": false,
     "start_time": "2023-04-01T13:44:13.986235",
     "status": "completed"
    },
    "tags": []
   },
   "outputs": [],
   "source": [
    "def tf_nan_mean(x, axis=0):\n",
    "    x_zero_insted_of_nan = tf.where(tf.math.is_nan(x), tf.zeros_like(x), x)\n",
    "    x_zero_for_nan_else_one = tf.where(\n",
    "        tf.math.is_nan(x), tf.zeros_like(x), tf.ones_like(x)\n",
    "    )\n",
    "    x_out = tf.reduce_sum(x_zero_insted_of_nan, axis=axis) / tf.reduce_sum(\n",
    "        x_zero_for_nan_else_one, axis=axis\n",
    "    )\n",
    "    return tf.where(tf.math.is_finite(x_out), x_out, tf.zeros_like(x_out))\n",
    "\n",
    "\n",
    "def tf_nan_std(x, axis=0):\n",
    "    d = x - tf_nan_mean(x, axis=axis)\n",
    "    return tf.math.sqrt(tf_nan_mean(d * d, axis=axis))"
   ]
  },
  {
   "cell_type": "markdown",
   "id": "d1fcb3c3",
   "metadata": {
    "papermill": {
     "duration": 0.012311,
     "end_time": "2023-04-01T13:44:14.033695",
     "exception": false,
     "start_time": "2023-04-01T13:44:14.021384",
     "status": "completed"
    },
    "tags": []
   },
   "source": [
    "## Configuration"
   ]
  },
  {
   "cell_type": "code",
   "execution_count": 15,
   "id": "f646bdbb",
   "metadata": {
    "execution": {
     "iopub.execute_input": "2023-04-01T13:44:14.061196Z",
     "iopub.status.busy": "2023-04-01T13:44:14.060344Z",
     "iopub.status.idle": "2023-04-01T13:44:14.069579Z",
     "shell.execute_reply": "2023-04-01T13:44:14.067996Z"
    },
    "papermill": {
     "duration": 0.026166,
     "end_time": "2023-04-01T13:44:14.072333",
     "exception": false,
     "start_time": "2023-04-01T13:44:14.046167",
     "status": "completed"
    },
    "tags": []
   },
   "outputs": [
    {
     "name": "stdout",
     "output_type": "stream",
     "text": [
      "----------------------------------------------------\n",
      "Drop Z in data column : False\n",
      "\n",
      "Fixed Frame (shape[0]) = 23\n",
      "\n",
      "Shape = [23, 88, 3]\n",
      "\n",
      "----------------------------------------------------\n"
     ]
    }
   ],
   "source": [
    "DROP_Z = False\n",
    "\n",
    "# Drop most of the face landmarks to reduce the dimensionality\n",
    "LANDMARK = [0, 9, 11, 13, 14, 17, 117, 118, 119, 199, 346, 347, 348] + list(\n",
    "    range(468, 543)\n",
    ")\n",
    "\n",
    "LENGHT_LANDMARK = len(LANDMARK)\n",
    "N_DATA = len([\"x\", \"y\"]) if DROP_Z else len([\"x\", \"y\", \"z\"])\n",
    "FIXED_FRAME = int(np.median(frames))\n",
    "SHAPE = [FIXED_FRAME, LENGHT_LANDMARK, N_DATA]\n",
    "\n",
    "print(\"----------------------------------------------------\")\n",
    "print(\"Drop Z in data column :\", DROP_Z, end=\"\\n\\n\")\n",
    "print(\"Fixed Frame (shape[0]) =\", FIXED_FRAME, end=\"\\n\\n\")\n",
    "print(\"Shape =\", SHAPE, end=\"\\n\\n\")\n",
    "print(\"----------------------------------------------------\")"
   ]
  },
  {
   "cell_type": "markdown",
   "id": "eebc4904",
   "metadata": {
    "papermill": {
     "duration": 0.012349,
     "end_time": "2023-04-01T13:44:14.097730",
     "exception": false,
     "start_time": "2023-04-01T13:44:14.085381",
     "status": "completed"
    },
    "tags": []
   },
   "source": [
    "## Feature Generator"
   ]
  },
  {
   "cell_type": "code",
   "execution_count": 16,
   "id": "fe7e80f9",
   "metadata": {
    "execution": {
     "iopub.execute_input": "2023-04-01T13:44:14.123958Z",
     "iopub.status.busy": "2023-04-01T13:44:14.123667Z",
     "iopub.status.idle": "2023-04-01T13:44:14.140133Z",
     "shell.execute_reply": "2023-04-01T13:44:14.139211Z"
    },
    "papermill": {
     "duration": 0.032082,
     "end_time": "2023-04-01T13:44:14.142281",
     "exception": false,
     "start_time": "2023-04-01T13:44:14.110199",
     "status": "completed"
    },
    "tags": []
   },
   "outputs": [],
   "source": [
    "class FeatureGen(tf.keras.layers.Layer):\n",
    "    def __init__(self):\n",
    "        super().__init__()\n",
    "\n",
    "    def call(self, x):\n",
    "        if x.shape[0] is None :\n",
    "            n_frames = FIXED_FRAME\n",
    "        else :\n",
    "            n_frames = x.shape[0]\n",
    "\n",
    "        # Drop \"z\" column\n",
    "        if DROP_Z:\n",
    "            x = x[:, :, 0:2]\n",
    "\n",
    "        # NaN values become 0\n",
    "        x = tf.where(tf.math.is_nan(x), tf.zeros_like(x), x)\n",
    "\n",
    "        # Landmarks reduction\n",
    "        # Select only the usefull landmark\n",
    "        x = tf.gather(\n",
    "            x,\n",
    "            indices=LANDMARK,\n",
    "            axis=1,\n",
    "        )\n",
    "        \n",
    "        if FIXED_FRAME > n_frames:\n",
    "            outputs = tf.image.resize(x, size=[SHAPE[0], SHAPE[1]], method=\"bilinear\")\n",
    "        else:\n",
    "            outputs = tf.image.resize(x, size=[SHAPE[0], SHAPE[1]], method=\"nearest\")\n",
    "\n",
    "        return outputs\n",
    "\n",
    "\n",
    "feature_converter = FeatureGen()"
   ]
  },
  {
   "cell_type": "code",
   "execution_count": 17,
   "id": "af9d8254",
   "metadata": {
    "execution": {
     "iopub.execute_input": "2023-04-01T13:44:14.168722Z",
     "iopub.status.busy": "2023-04-01T13:44:14.168408Z",
     "iopub.status.idle": "2023-04-01T13:44:16.845059Z",
     "shell.execute_reply": "2023-04-01T13:44:16.844021Z"
    },
    "papermill": {
     "duration": 2.692458,
     "end_time": "2023-04-01T13:44:16.847274",
     "exception": false,
     "start_time": "2023-04-01T13:44:14.154816",
     "status": "completed"
    },
    "tags": []
   },
   "outputs": [
    {
     "data": {
      "text/plain": [
       "(TensorShape([23, 88, 3]), (11, 543, 3))"
      ]
     },
     "execution_count": 17,
     "metadata": {},
     "output_type": "execute_result"
    }
   ],
   "source": [
    "# Some test\n",
    "sample = load_relevant_data_subset(path_train_df.path[1])\n",
    "prepocesse_sample = feature_converter(sample)\n",
    "prepocesse_sample.shape, sample.shape"
   ]
  },
  {
   "cell_type": "markdown",
   "id": "29c7661c",
   "metadata": {
    "papermill": {
     "duration": 0.012715,
     "end_time": "2023-04-01T13:44:16.873044",
     "exception": false,
     "start_time": "2023-04-01T13:44:16.860329",
     "status": "completed"
    },
    "tags": []
   },
   "source": [
    "## Making data"
   ]
  },
  {
   "cell_type": "code",
   "execution_count": 18,
   "id": "4492c6a3",
   "metadata": {
    "execution": {
     "iopub.execute_input": "2023-04-01T13:44:16.900676Z",
     "iopub.status.busy": "2023-04-01T13:44:16.899704Z",
     "iopub.status.idle": "2023-04-01T13:44:16.907983Z",
     "shell.execute_reply": "2023-04-01T13:44:16.907040Z"
    },
    "papermill": {
     "duration": 0.024247,
     "end_time": "2023-04-01T13:44:16.910117",
     "exception": false,
     "start_time": "2023-04-01T13:44:16.885870",
     "status": "completed"
    },
    "tags": []
   },
   "outputs": [
    {
     "name": "stdout",
     "output_type": "stream",
     "text": [
      "----------------------------------------------------\n",
      "Lenght of data for modeling : 944\n",
      "Percentage of total data 1.0%\n",
      "----------------------------------------------------\n"
     ]
    }
   ],
   "source": [
    "TOTAL_DATA_LENGHT = len(path_train_df)\n",
    "DATA_LENGHT_EXPERIMENT = int(len(path_train_df) / 100)\n",
    "\n",
    "print(\"----------------------------------------------------\")\n",
    "print(\"Lenght of data for modeling :\", DATA_LENGHT_EXPERIMENT)\n",
    "print(f\"Percentage of total data {DATA_LENGHT_EXPERIMENT/TOTAL_DATA_LENGHT*100:.1f}%\")\n",
    "print(\"----------------------------------------------------\")"
   ]
  },
  {
   "cell_type": "code",
   "execution_count": 19,
   "id": "f91a7820",
   "metadata": {
    "execution": {
     "iopub.execute_input": "2023-04-01T13:44:16.937116Z",
     "iopub.status.busy": "2023-04-01T13:44:16.936807Z",
     "iopub.status.idle": "2023-04-01T13:44:16.944736Z",
     "shell.execute_reply": "2023-04-01T13:44:16.943591Z"
    },
    "papermill": {
     "duration": 0.02392,
     "end_time": "2023-04-01T13:44:16.946933",
     "exception": false,
     "start_time": "2023-04-01T13:44:16.923013",
     "status": "completed"
    },
    "tags": []
   },
   "outputs": [],
   "source": [
    "def convert_row(row):\n",
    "    x = load_relevant_data_subset(row.path)\n",
    "    x = feature_converter(x)\n",
    "    return x, row.label\n",
    "\n",
    "\n",
    "def convert_and_save_data(data_lenght=DATA_LENGHT_EXPERIMENT):\n",
    "    np_features = np.zeros([data_lenght] + SHAPE)\n",
    "    np_labels = np.zeros(data_lenght)\n",
    "    \n",
    "    print(\"----------------------------------------------------\")\n",
    "    print(f\"Total data to processe : {data_lenght}\")\n",
    "    print(f\"Percentage of total data {data_lenght/TOTAL_DATA_LENGHT*100:.2f}%\")\n",
    "    print(\"----------------------------------------------------\")\n",
    "    \n",
    "    for index, row in tqdm(path_train_df.iterrows(), total=data_lenght):\n",
    "        if index > data_lenght - 1:\n",
    "            break\n",
    "\n",
    "        if index % (DATA_LENGHT_EXPERIMENT // 10) == 0:\n",
    "            print(f\"Data processed {index/data_lenght*100:.1f}%\")\n",
    "\n",
    "        data = load_relevant_data_subset(row.path)\n",
    "        feature, label = convert_row(row)\n",
    "        np_features[index] = feature\n",
    "        np_labels[index] = label\n",
    "\n",
    "    np.save(\"features.npy\", np_features)\n",
    "    np.save(\"labels.npy\", np_labels)"
   ]
  },
  {
   "cell_type": "code",
   "execution_count": 20,
   "id": "ef242838",
   "metadata": {
    "execution": {
     "iopub.execute_input": "2023-04-01T13:44:16.973652Z",
     "iopub.status.busy": "2023-04-01T13:44:16.973344Z",
     "iopub.status.idle": "2023-04-01T13:44:27.736781Z",
     "shell.execute_reply": "2023-04-01T13:44:27.735488Z"
    },
    "papermill": {
     "duration": 10.780001,
     "end_time": "2023-04-01T13:44:27.739684",
     "exception": false,
     "start_time": "2023-04-01T13:44:16.959683",
     "status": "completed"
    },
    "tags": []
   },
   "outputs": [
    {
     "name": "stdout",
     "output_type": "stream",
     "text": [
      "Loading DATA has fail... \n",
      "Creating DataSet\n",
      "----------------------------------------------------\n",
      "Total data to processe : 944\n",
      "Percentage of total data 1.00%\n",
      "----------------------------------------------------\n"
     ]
    },
    {
     "data": {
      "application/vnd.jupyter.widget-view+json": {
       "model_id": "b2142394cd19436ba2fb3b521a9689d4",
       "version_major": 2,
       "version_minor": 0
      },
      "text/plain": [
       "  0%|          | 0/944 [00:00<?, ?it/s]"
      ]
     },
     "metadata": {},
     "output_type": "display_data"
    },
    {
     "name": "stdout",
     "output_type": "stream",
     "text": [
      "Data processed 0.0%\n",
      "Data processed 10.0%\n",
      "Data processed 19.9%\n",
      "Data processed 29.9%\n",
      "Data processed 39.8%\n",
      "Data processed 49.8%\n",
      "Data processed 59.7%\n",
      "Data processed 69.7%\n",
      "Data processed 79.7%\n",
      "Data processed 89.6%\n",
      "Data processed 99.6%\n"
     ]
    }
   ],
   "source": [
    "try:\n",
    "    features = np.load(\"/kaggle/working/features.npy\")\n",
    "    labels = np.load(\"/kaggle/working/labels.npy\")\n",
    "    print(\"Data Load successfully\")\n",
    "except:\n",
    "    print(\"Loading DATA has fail... \\nCreating DataSet\")\n",
    "    convert_and_save_data(DATA_LENGHT_EXPERIMENT)\n",
    "\n",
    "    features = np.load(\"features.npy\")\n",
    "    labels = np.load(\"labels.npy\")"
   ]
  },
  {
   "cell_type": "code",
   "execution_count": 21,
   "id": "df74d139",
   "metadata": {
    "execution": {
     "iopub.execute_input": "2023-04-01T13:44:27.769193Z",
     "iopub.status.busy": "2023-04-01T13:44:27.768883Z",
     "iopub.status.idle": "2023-04-01T13:44:27.907858Z",
     "shell.execute_reply": "2023-04-01T13:44:27.906251Z"
    },
    "papermill": {
     "duration": 0.156566,
     "end_time": "2023-04-01T13:44:27.910306",
     "exception": false,
     "start_time": "2023-04-01T13:44:27.753740",
     "status": "completed"
    },
    "tags": []
   },
   "outputs": [
    {
     "name": "stdout",
     "output_type": "stream",
     "text": [
      "----------------------------------------------------\n",
      "X_train shape =  (755, 23, 88, 3)\n",
      "X_val shape =  (189, 23, 88, 3)\n",
      "y_train shape =  (755,)\n",
      "y_val shape =  (189,)\n",
      "----------------------------------------------------\n"
     ]
    }
   ],
   "source": [
    "test_size=0.2\n",
    "X_train, X_val, y_train, y_val = train_test_split(\n",
    "    features, labels, test_size=test_size, random_state=SEED\n",
    ")\n",
    "\n",
    "del features,labels # delete, usefull with full data otherwise it fail (memorry issues)\n",
    "\n",
    "buffer_size = int(DATA_LENGHT_EXPERIMENT / 10)\n",
    "\n",
    "train_data = tf.data.Dataset.from_tensor_slices((X_train, y_train))\n",
    "train_data = train_data.shuffle(buffer_size).batch(128, drop_remainder=True).prefetch(tf.data.AUTOTUNE)\n",
    "\n",
    "val_data = tf.data.Dataset.from_tensor_slices((X_val, y_val))\n",
    "val_data = val_data.batch(128, drop_remainder=True).prefetch(tf.data.AUTOTUNE)\n",
    "\n",
    "print(\"----------------------------------------------------\")\n",
    "print(\"X_train shape = \", X_train.shape)\n",
    "print(\"X_val shape = \", X_val.shape)\n",
    "print(\"y_train shape = \", y_train.shape)\n",
    "print(\"y_val shape = \", y_val.shape)\n",
    "print(\"----------------------------------------------------\")"
   ]
  },
  {
   "cell_type": "code",
   "execution_count": 22,
   "id": "25343378",
   "metadata": {
    "execution": {
     "iopub.execute_input": "2023-04-01T13:44:27.939479Z",
     "iopub.status.busy": "2023-04-01T13:44:27.939176Z",
     "iopub.status.idle": "2023-04-01T13:44:27.947532Z",
     "shell.execute_reply": "2023-04-01T13:44:27.946642Z"
    },
    "papermill": {
     "duration": 0.025175,
     "end_time": "2023-04-01T13:44:27.949698",
     "exception": false,
     "start_time": "2023-04-01T13:44:27.924523",
     "status": "completed"
    },
    "tags": []
   },
   "outputs": [],
   "source": [
    "# Quick test -> after training\n",
    "quick_test_idx = np.random.randint(0, len(y_val), size=(10,))  # See after training\n",
    "quick_test_X = np.take(X_val, quick_test_idx, axis=0)\n",
    "quick_test_y = np.take(y_val, quick_test_idx, axis=0)\n",
    "del X_train, X_val, y_train, y_val"
   ]
  },
  {
   "cell_type": "markdown",
   "id": "03670db1",
   "metadata": {
    "papermill": {
     "duration": 0.013448,
     "end_time": "2023-04-01T13:44:27.976634",
     "exception": false,
     "start_time": "2023-04-01T13:44:27.963186",
     "status": "completed"
    },
    "tags": []
   },
   "source": [
    "# Modeling"
   ]
  },
  {
   "cell_type": "code",
   "execution_count": 23,
   "id": "9628247b",
   "metadata": {
    "execution": {
     "iopub.execute_input": "2023-04-01T13:44:28.006994Z",
     "iopub.status.busy": "2023-04-01T13:44:28.005250Z",
     "iopub.status.idle": "2023-04-01T13:44:28.019629Z",
     "shell.execute_reply": "2023-04-01T13:44:28.018670Z"
    },
    "papermill": {
     "duration": 0.031701,
     "end_time": "2023-04-01T13:44:28.022033",
     "exception": false,
     "start_time": "2023-04-01T13:44:27.990332",
     "status": "completed"
    },
    "tags": []
   },
   "outputs": [],
   "source": [
    "class DenseBlock(layers.Layer):\n",
    "    def __init__(self, units, drop):\n",
    "        super().__init__()\n",
    "        self.dense = layers.Dense(units)\n",
    "        self.norm = layers.LayerNormalization()\n",
    "        self.relu = layers.Activation(\"relu\")\n",
    "        self.drop = layers.Dropout(drop)\n",
    "        \n",
    "    def call(self, x):\n",
    "        x = self.dense(x)\n",
    "        x = self.norm(x)\n",
    "        x = self.relu(x)\n",
    "        x = self.drop(x)\n",
    "        return x\n",
    "\n",
    "class ClassifierLSTM(layers.Layer):\n",
    "    def __init__(self, lstm_units, drop):\n",
    "        super().__init__()\n",
    "        self.dropout = layers.Dropout(drop)\n",
    "        self.pool2d = layers.AveragePooling2D(pool_size=(4, 1)) # Keep the same number of landmark\n",
    "        self.reshape = layers.Reshape((-1, 64))\n",
    "        self.lstm = layers.LSTM(units=lstm_units, return_sequences=True)\n",
    "        self.pool1d = layers.AveragePooling1D(pool_size=4)\n",
    "        self.flat = layers.Flatten()\n",
    "        self.outputs = layers.Dense(250, activation=\"softmax\", name=\"predictions\")\n",
    "    \n",
    "    def call(self, x): # (None, 23, 88, 64)\n",
    "        x = self.pool2d(x) # (None, 5, 88, 64)\n",
    "        x = self.reshape(x) # (None, 2024, 64)\n",
    "        x = self.lstm(x) # (None, 2024, 250)\n",
    "        x = self.dropout(x)\n",
    "        x = self.pool1d(x) # (None, 506, 250)\n",
    "        x = self.flat(x) # (None, 126_500)\n",
    "        outputs = self.outputs(x) # (None, 126 _00)\n",
    "        return outputs\n",
    "\n",
    "\n",
    "class ClassifierConvLSTM1D(layers.Layer):\n",
    "    def __init__(self, lstm_units, drop):\n",
    "        super().__init__()\n",
    "        self.pool2d = layers.AveragePooling2D(pool_size=(6, 1)) # Keep the same number of landmark\n",
    "        self.conv_lstm1D = layers.ConvLSTM1D(filters=lstm_units, kernel_size=1) # RNN capable of learning long-term dependencies\n",
    "        self.dropout = layers.Dropout(drop)\n",
    "        self.flat = layers.Flatten()\n",
    "        self.outputs = layers.Dense(250, activation=\"softmax\", name=\"predictions\")\n",
    "    \n",
    "    def call(self, x): # (None, 23, 88, 64)\n",
    "        x = self.pool2d(x) # (None, 5, 88, 64)\n",
    "        x = self.conv_lstm1D(x) # (None, 88, 250)\n",
    "        x = self.dropout(x)\n",
    "        x = self.flat(x)\n",
    "        outputs = self.outputs(x)\n",
    "        return outputs"
   ]
  },
  {
   "cell_type": "code",
   "execution_count": 24,
   "id": "31dc5b17",
   "metadata": {
    "execution": {
     "iopub.execute_input": "2023-04-01T13:44:28.051205Z",
     "iopub.status.busy": "2023-04-01T13:44:28.050911Z",
     "iopub.status.idle": "2023-04-01T13:44:28.057600Z",
     "shell.execute_reply": "2023-04-01T13:44:28.056628Z"
    },
    "papermill": {
     "duration": 0.023907,
     "end_time": "2023-04-01T13:44:28.059713",
     "exception": false,
     "start_time": "2023-04-01T13:44:28.035806",
     "status": "completed"
    },
    "tags": []
   },
   "outputs": [],
   "source": [
    "def get_model(\n",
    "    encoder_units=[128, 64],\n",
    "    drop=0.5,\n",
    "    lstm_units=250,\n",
    "    shape=SHAPE,\n",
    "    learning_rate=0.001,\n",
    "):\n",
    "    inputs = layers.Input(shape=shape)\n",
    "    x = inputs\n",
    "\n",
    "    for units in encoder_units:\n",
    "        x = DenseBlock(units, drop)(x)\n",
    "\n",
    "    outputs = ClassifierConvLSTM1D(lstm_units, drop)(x)\n",
    "    # ClassifierConvLSTM1D\n",
    "    # ClassifierLSTM\n",
    "\n",
    "    model = tf.keras.Model(inputs=inputs, outputs=outputs)\n",
    "\n",
    "    model.compile(\n",
    "        loss=\"sparse_categorical_crossentropy\",\n",
    "        optimizer=tf.keras.optimizers.Adam(learning_rate=learning_rate),\n",
    "        metrics=[\"accuracy\"],\n",
    "    )\n",
    "\n",
    "    return model"
   ]
  },
  {
   "cell_type": "code",
   "execution_count": 25,
   "id": "4088e13b",
   "metadata": {
    "execution": {
     "iopub.execute_input": "2023-04-01T13:44:28.088179Z",
     "iopub.status.busy": "2023-04-01T13:44:28.087885Z",
     "iopub.status.idle": "2023-04-01T13:44:28.610962Z",
     "shell.execute_reply": "2023-04-01T13:44:28.610012Z"
    },
    "papermill": {
     "duration": 0.549553,
     "end_time": "2023-04-01T13:44:28.622844",
     "exception": false,
     "start_time": "2023-04-01T13:44:28.073291",
     "status": "completed"
    },
    "tags": []
   },
   "outputs": [
    {
     "name": "stdout",
     "output_type": "stream",
     "text": [
      "Model: \"model\"\n",
      "_________________________________________________________________\n",
      " Layer (type)                Output Shape              Param #   \n",
      "=================================================================\n",
      " input_1 (InputLayer)        [(None, 23, 88, 3)]       0         \n",
      "                                                                 \n",
      " dense_block (DenseBlock)    (None, 23, 88, 128)       768       \n",
      "                                                                 \n",
      " dense_block_1 (DenseBlock)  (None, 23, 88, 64)        8384      \n",
      "                                                                 \n",
      " classifier_conv_lstm1d (Cla  (None, 250)              5815250   \n",
      " ssifierConvLSTM1D)                                              \n",
      "                                                                 \n",
      "=================================================================\n",
      "Total params: 5,824,402\n",
      "Trainable params: 5,824,402\n",
      "Non-trainable params: 0\n",
      "_________________________________________________________________\n"
     ]
    }
   ],
   "source": [
    "def get_callbacks():\n",
    "    return [\n",
    "        tf.keras.callbacks.EarlyStopping(\n",
    "            monitor=\"val_accuracy\", patience=10, restore_best_weights=True\n",
    "        ),\n",
    "        tf.keras.callbacks.ReduceLROnPlateau(\n",
    "            monitor=\"val_accuracy\", factor=0.5, patience=3\n",
    "        ),\n",
    "        tf.keras.callbacks.ModelCheckpoint(\n",
    "            \"./ASL_model\",\n",
    "            save_best_only=True,\n",
    "            restore_best_weights=True,\n",
    "            monitor=\"val_accuracy\",\n",
    "            mode=\"max\",\n",
    "            verbose=False,\n",
    "        ),\n",
    "    ]\n",
    "\n",
    "\n",
    "cb_list = get_callbacks()\n",
    "\n",
    "model = get_model()\n",
    "model.summary()"
   ]
  },
  {
   "cell_type": "code",
   "execution_count": 26,
   "id": "eff2abe7",
   "metadata": {
    "execution": {
     "iopub.execute_input": "2023-04-01T13:44:28.654038Z",
     "iopub.status.busy": "2023-04-01T13:44:28.653713Z",
     "iopub.status.idle": "2023-04-01T13:44:28.941769Z",
     "shell.execute_reply": "2023-04-01T13:44:28.940289Z"
    },
    "papermill": {
     "duration": 0.3069,
     "end_time": "2023-04-01T13:44:28.944730",
     "exception": false,
     "start_time": "2023-04-01T13:44:28.637830",
     "status": "completed"
    },
    "tags": []
   },
   "outputs": [
    {
     "data": {
      "image/png": "[encoded data removed]",
      "text/plain": [
       "<IPython.core.display.Image object>"
      ]
     },
     "execution_count": 26,
     "metadata": {},
     "output_type": "execute_result"
    }
   ],
   "source": [
    "from tensorflow.keras.utils import plot_model\n",
    "\n",
    "plot_model(model, expand_nested=False)"
   ]
  },
  {
   "cell_type": "code",
   "execution_count": 27,
   "id": "b22f8a0e",
   "metadata": {
    "execution": {
     "iopub.execute_input": "2023-04-01T13:44:29.005771Z",
     "iopub.status.busy": "2023-04-01T13:44:29.005187Z",
     "iopub.status.idle": "2023-04-01T13:44:29.015250Z",
     "shell.execute_reply": "2023-04-01T13:44:29.014314Z"
    },
    "papermill": {
     "duration": 0.044553,
     "end_time": "2023-04-01T13:44:29.018113",
     "exception": false,
     "start_time": "2023-04-01T13:44:28.973560",
     "status": "completed"
    },
    "tags": []
   },
   "outputs": [
    {
     "name": "stdout",
     "output_type": "stream",
     "text": [
      "----------------------------------------------------\n",
      "Guessing:  0.004\n",
      "Data per Class: 3.0208000000000004\n",
      "----------------------------------------------------\n"
     ]
    }
   ],
   "source": [
    "print(\"----------------------------------------------------\")\n",
    "print(\"Guessing: \", 1 / 250)\n",
    "print(\"Data per Class:\", DATA_LENGHT_EXPERIMENT*(1-test_size) / 250)\n",
    "print(\"----------------------------------------------------\")"
   ]
  },
  {
   "cell_type": "markdown",
   "id": "66b4e7cb",
   "metadata": {
    "execution": {
     "iopub.execute_input": "2023-03-25T11:00:48.765295Z",
     "iopub.status.busy": "2023-03-25T11:00:48.764672Z",
     "iopub.status.idle": "2023-03-25T11:00:48.798007Z",
     "shell.execute_reply": "2023-03-25T11:00:48.796143Z",
     "shell.execute_reply.started": "2023-03-25T11:00:48.765217Z"
    },
    "papermill": {
     "duration": 0.021423,
     "end_time": "2023-04-01T13:44:29.062088",
     "exception": false,
     "start_time": "2023-04-01T13:44:29.040665",
     "status": "completed"
    },
    "tags": []
   },
   "source": [
    "## Fit"
   ]
  },
  {
   "cell_type": "code",
   "execution_count": 28,
   "id": "590bb9f9",
   "metadata": {
    "execution": {
     "iopub.execute_input": "2023-04-01T13:44:29.107417Z",
     "iopub.status.busy": "2023-04-01T13:44:29.107047Z",
     "iopub.status.idle": "2023-04-01T13:44:52.782000Z",
     "shell.execute_reply": "2023-04-01T13:44:52.780882Z"
    },
    "papermill": {
     "duration": 23.701419,
     "end_time": "2023-04-01T13:44:52.785468",
     "exception": false,
     "start_time": "2023-04-01T13:44:29.084049",
     "status": "completed"
    },
    "tags": []
   },
   "outputs": [
    {
     "name": "stderr",
     "output_type": "stream",
     "text": [
      "2023-04-01 13:44:31.955041: E tensorflow/core/grappler/optimizers/meta_optimizer.cc:954] layout failed: INVALID_ARGUMENT: Size of values 0 does not match size of permutation 4 @ fanin shape ingradient_tape/model/dense_block_1/dropout_1/dropout/SelectV2-2-TransposeNHWCToNCHW-LayoutOptimizer\n"
     ]
    },
    {
     "name": "stdout",
     "output_type": "stream",
     "text": [
      "5/5 [==============================] - 16s 2s/step - loss: 5.7862 - accuracy: 0.0063 - val_loss: 5.6257 - val_accuracy: 0.0156 - lr: 0.0010\n",
      "CPU times: user 10.4 s, sys: 1.12 s, total: 11.6 s\n",
      "Wall time: 23.7 s\n"
     ]
    }
   ],
   "source": [
    "%%time\n",
    "history = model.fit(\n",
    "    train_data,\n",
    "    validation_data=val_data,\n",
    "    epochs=1,\n",
    "    callbacks=cb_list\n",
    ")"
   ]
  },
  {
   "cell_type": "code",
   "execution_count": 29,
   "id": "53f0fc4d",
   "metadata": {
    "execution": {
     "iopub.execute_input": "2023-04-01T13:44:52.819400Z",
     "iopub.status.busy": "2023-04-01T13:44:52.819084Z",
     "iopub.status.idle": "2023-04-01T13:44:54.672583Z",
     "shell.execute_reply": "2023-04-01T13:44:54.671577Z"
    },
    "papermill": {
     "duration": 1.872126,
     "end_time": "2023-04-01T13:44:54.674941",
     "exception": false,
     "start_time": "2023-04-01T13:44:52.802815",
     "status": "completed"
    },
    "tags": []
   },
   "outputs": [
    {
     "name": "stdout",
     "output_type": "stream",
     "text": [
      "1/1 [==============================] - 0s 335ms/step - loss: 5.6257 - accuracy: 0.0156\n"
     ]
    }
   ],
   "source": [
    "model = tf.keras.models.load_model(\"./ASL_model\")\n",
    "score = model.evaluate(val_data)"
   ]
  },
  {
   "cell_type": "code",
   "execution_count": 30,
   "id": "0b09313c",
   "metadata": {
    "execution": {
     "iopub.execute_input": "2023-04-01T13:44:54.708822Z",
     "iopub.status.busy": "2023-04-01T13:44:54.707098Z",
     "iopub.status.idle": "2023-04-01T13:44:55.012157Z",
     "shell.execute_reply": "2023-04-01T13:44:55.010808Z"
    },
    "papermill": {
     "duration": 0.32452,
     "end_time": "2023-04-01T13:44:55.015270",
     "exception": false,
     "start_time": "2023-04-01T13:44:54.690750",
     "status": "completed"
    },
    "tags": []
   },
   "outputs": [
    {
     "name": "stdout",
     "output_type": "stream",
     "text": [
      "Prediction on val label : DRY        => True label TOMORROW   => 0\n",
      "Prediction on val label : DRY        => True label SHIRT      => 0\n",
      "Prediction on val label : DRY        => True label OWL        => 0\n",
      "Prediction on val label : BUG        => True label SICK       => 0\n",
      "Prediction on val label : DRY        => True label FLOWER     => 0\n",
      "Prediction on val label : DRY        => True label HAVETO     => 0\n",
      "Prediction on val label : BETTER     => True label RAIN       => 0\n",
      "Prediction on val label : DRY        => True label JUMP       => 0\n",
      "Prediction on val label : DRY        => True label TOMORROW   => 0\n",
      "Prediction on val label : DRY        => True label BED        => 0\n"
     ]
    }
   ],
   "source": [
    "predictions = model.predict(quick_test_X, verbose=False).argmax(axis=1)\n",
    "\n",
    "for true_label_id, pred_label_id in zip(quick_test_y, predictions):\n",
    "    true_label = decoder(true_label_id)\n",
    "    pred_label = decoder(pred_label_id)\n",
    "    result = True if pred_label == true_label else False\n",
    "    print(\n",
    "        f\"Prediction on val label : {pred_label.upper():<10} => True label {true_label.upper():<10} => {int(result)}\"\n",
    "    )"
   ]
  },
  {
   "cell_type": "markdown",
   "id": "33111766",
   "metadata": {
    "papermill": {
     "duration": 0.01498,
     "end_time": "2023-04-01T13:44:55.046341",
     "exception": false,
     "start_time": "2023-04-01T13:44:55.031361",
     "status": "completed"
    },
    "tags": []
   },
   "source": [
    "## Benchmark on 10% data ConvLSTM1D\n",
    "\n",
    "`kernel_size=1`, 192 landmark, 13 frames, `lstm_units=100`, `units=[512, 256]` :\n",
    "- 2dense block => 24s 402ms/step - loss: 0.1679 - accuracy: 0.9951 - val_loss: 6.1105 - val_accuracy: 0.1402 - lr: 3.1250e-05\n",
    "- 2dense block without Z =>23s 388ms/step - loss: 0.1138 - accuracy: 0.9978 - val_loss: 5.6463 - val_accuracy: 0.1810 - lr: 6.2500e-05\n",
    "- 2dense block kernel_size=4 => 85s 1s/step - loss: 5.5149 - accuracy: 0.0060 - val_loss: 5.5236 - val_accuracy: 0.0032 - lr: 1.2500e-04 - best accuracy: 0.0069\n",
    "- 2dense block only \"bilinear\" => 27s 457ms/step - loss: 0.0523 - accuracy: 0.9996 - val_loss: 5.9966 - val_accuracy: 0.1852 - lr: 6.2500e-05\n",
    "\n",
    "---\n",
    "\n",
    "`kernel_size=1`, 192 landmark, 13 frames, `lstm_units=100`, `units=[512, 256, 128]` :\n",
    "- 3dense block only \"bilinear\" => 29s 477ms/step - loss: 0.0864 - accuracy: 0.9959 - val_loss: 6.2813 - val_accuracy: 0.1884 - lr: 3.1250e-05 - best accuracy: 0.1926\n",
    "- 3dense block only \"nearest\" => 28s 471ms/step - loss: 0.6903 - accuracy: 0.8809 - val_loss: 5.1938 - val_accuracy: 0.1825 - lr: 3.1250e-05 - best accuracy: 0.1857\n",
    "- 3dense block only \"bilinear\" => 25s 421ms/step - loss: 0.5771 - accuracy: 0.9135 - val_loss: 5.7056 - val_accuracy: 0.1608 - lr: 3.1250e-05 - best accuracy: 0.1608\n",
    "- 3dense block => 26s 440ms/step - loss: 0.0279 - accuracy: 0.9997 - val_loss: 6.7141 - val_accuracy: 0.1899 - lr: 1.5625e-05 - best accuracy: 0.1952\n",
    "- 3dense block + normalisation => 27s 441ms/step - loss: 0.0011 - accuracy: 1.0000 - val_loss: 11.0349 - val_accuracy: 0.0587 - lr: 1.2500e-04 - best accuracy: 0.0614\n",
    "\n",
    "---\n",
    "\n",
    "2dense block 23frames `units=[128, 64]`\n",
    "- 3dense block 45frames `units=[512, 256, 128]`=> 57s 953ms/step - loss: 0.1020 - accuracy: 0.9794 - val_loss: 6.4184 - val_accuracy: 0.1868 - lr: 6.2500e-05 - best accuracy: 0.1884\n",
    "- 3dense block 23frames `units=[512, 256, 128]`=> 33s 544ms/step - loss: 0.1231 - accuracy: 0.9790 - val_loss: 5.8464 - val_accuracy: 0.1989 - lr: 1.5625e-05 - best accuracy: 0.2042\n",
    "- 2dense block 23frames `units=[512, 256]` => 33s 544ms/step - loss: 0.0770 - accuracy: 0.9874 - val_loss: 6.0699 - val_accuracy: 0.1974 - lr: 3.1250e-05 - best accuracy: 0.2021\n",
    "- 2dense block 23frames `units=[256, 128]` => 24s 407ms/step - loss: 0.0993 - accuracy: 0.9807 - val_loss: 6.0558 - val_accuracy: 0.2238 - lr: 3.1250e-05 - best accuracy: 0.2286\n",
    "- 2dense block 23frames `units=[128, 64]` => 22s 362ms/step - loss: 0.4469 - accuracy: 0.8834 - val_loss: 5.4353 - val_accuracy: 0.2365 - lr: 6.2500e-05 - best accuracy: 0.2381\n",
    "- 2dense block 23frames `units=[64, 32]` => 20s 333ms/step - loss: 0.3328 - accuracy: 0.9096 - val_loss: 6.2471 - val_accuracy: 0.2143 - lr: 3.1250e-05 - best accuracy: 0.2196\n",
    "- 2dense block 23frames without_Z `units=[128, 64]` => 22s 362ms/step - loss: 0.1107 - accuracy: 0.9746 - val_loss: 6.9636 - val_accuracy: 0.2069 - lr: 1.5625e-05 - best accuracy: 0.2074\n",
    "\n",
    "---\n",
    "2dense block 23frames, `units=[128, 64]`, `units=[128, 64]`\n",
    "- 7s 112ms/step - loss: 0.1199 - accuracy: 0.9707 - val_loss: 6.8240 - val_accuracy: 0.2260 - lr: 6.2500e-05"
   ]
  },
  {
   "cell_type": "markdown",
   "id": "0d078465",
   "metadata": {
    "papermill": {
     "duration": 0.015005,
     "end_time": "2023-04-01T13:44:55.076460",
     "exception": false,
     "start_time": "2023-04-01T13:44:55.061455",
     "status": "completed"
    },
    "tags": []
   },
   "source": [
    "## Benchmark on 100% of data\n",
    "\n",
    "- 2dense block 23frames `units=[128, 64]` => 219s 370ms/step - loss: 0.3757 - accuracy: 0.8876 - val_loss: 2.3673 - val_accuracy: 0.5853 - lr: 1.9531e-06"
   ]
  },
  {
   "cell_type": "markdown",
   "id": "20524894",
   "metadata": {
    "papermill": {
     "duration": 0.0152,
     "end_time": "2023-04-01T13:44:55.106997",
     "exception": false,
     "start_time": "2023-04-01T13:44:55.091797",
     "status": "completed"
    },
    "tags": []
   },
   "source": [
    "## Benchmark on 10% data LSTM\n",
    "\n",
    "- 9s 149ms/step - loss: 0.0156 - accuracy: 0.9977 - val_loss: 9.6546 - val_accuracy: 0.1702 - lr: 6.2500e-05 - best accuracy: 0.1769"
   ]
  },
  {
   "cell_type": "markdown",
   "id": "1a1bcd68",
   "metadata": {
    "papermill": {
     "duration": 0.015013,
     "end_time": "2023-04-01T13:44:55.137137",
     "exception": false,
     "start_time": "2023-04-01T13:44:55.122124",
     "status": "completed"
    },
    "tags": []
   },
   "source": [
    "# Visualize History"
   ]
  },
  {
   "cell_type": "code",
   "execution_count": 31,
   "id": "279ae472",
   "metadata": {
    "execution": {
     "iopub.execute_input": "2023-04-01T13:44:55.169213Z",
     "iopub.status.busy": "2023-04-01T13:44:55.168879Z",
     "iopub.status.idle": "2023-04-01T13:44:55.176829Z",
     "shell.execute_reply": "2023-04-01T13:44:55.175678Z"
    },
    "papermill": {
     "duration": 0.026799,
     "end_time": "2023-04-01T13:44:55.179354",
     "exception": false,
     "start_time": "2023-04-01T13:44:55.152555",
     "status": "completed"
    },
    "tags": []
   },
   "outputs": [],
   "source": [
    "def plot_history(history, zoom=0):\n",
    "    df = pd.DataFrame(history.history)\n",
    "    n = len(df.columns)\n",
    "\n",
    "    row = n // 2\n",
    "    col = n // 2 + n % 2\n",
    "\n",
    "    plt.figure(figsize=(5 * (col + 1) + zoom, 5 * row + zoom))\n",
    "    for i, column in enumerate(df.columns):\n",
    "        plt.subplot(row, col + 1, i + 1)\n",
    "        plt.plot(df[f\"{column}\"], label=f\"{column}\")\n",
    "        plt.legend()\n",
    "        plt.xlabel(\"epochs\")\n",
    "        plt.ylabel(f\"{column}\")\n",
    "        plt.tight_layout(pad=2)  # padding\n",
    "\n",
    "    plt.subplot(row, col + 1, n + 1)\n",
    "    for column in df.columns:\n",
    "        plt.plot(df[f\"{column}\"], label=f\"{column}\")\n",
    "        plt.legend()\n",
    "    plt.xlabel(\"epochs\")"
   ]
  },
  {
   "cell_type": "code",
   "execution_count": 32,
   "id": "99843739",
   "metadata": {
    "execution": {
     "iopub.execute_input": "2023-04-01T13:44:55.211763Z",
     "iopub.status.busy": "2023-04-01T13:44:55.210946Z",
     "iopub.status.idle": "2023-04-01T13:44:56.333430Z",
     "shell.execute_reply": "2023-04-01T13:44:56.332402Z"
    },
    "papermill": {
     "duration": 1.141283,
     "end_time": "2023-04-01T13:44:56.336116",
     "exception": false,
     "start_time": "2023-04-01T13:44:55.194833",
     "status": "completed"
    },
    "tags": []
   },
   "outputs": [
    {
     "data": {
      "image/png": "[encoded data removed]",
      "text/plain": [
       "<Figure size 2000x1000 with 6 Axes>"
      ]
     },
     "metadata": {},
     "output_type": "display_data"
    }
   ],
   "source": [
    "plot_history(history)"
   ]
  },
  {
   "cell_type": "markdown",
   "id": "0deb925a",
   "metadata": {
    "papermill": {
     "duration": 0.016135,
     "end_time": "2023-04-01T13:44:56.369146",
     "exception": false,
     "start_time": "2023-04-01T13:44:56.353011",
     "status": "completed"
    },
    "tags": []
   },
   "source": [
    "# Inference Model"
   ]
  },
  {
   "cell_type": "code",
   "execution_count": 33,
   "id": "582381a9",
   "metadata": {
    "execution": {
     "iopub.execute_input": "2023-04-01T13:44:56.403273Z",
     "iopub.status.busy": "2023-04-01T13:44:56.402940Z",
     "iopub.status.idle": "2023-04-01T13:44:56.410226Z",
     "shell.execute_reply": "2023-04-01T13:44:56.409141Z"
    },
    "papermill": {
     "duration": 0.027032,
     "end_time": "2023-04-01T13:44:56.412465",
     "exception": false,
     "start_time": "2023-04-01T13:44:56.385433",
     "status": "completed"
    },
    "tags": []
   },
   "outputs": [],
   "source": [
    "class TFLiteModel(tf.keras.Model):\n",
    "    def __init__(self, model):\n",
    "        super().__init__()\n",
    "        self.prep_inputs = FeatureGen()\n",
    "        self.model = model\n",
    "        \n",
    "    @tf.function(input_signature=[tf.TensorSpec(shape=[None, 543, 3], dtype=tf.float32, name='inputs')])\n",
    "    def call(self, inputs):\n",
    "        x = self.prep_inputs(tf.cast(inputs, dtype=tf.float32))\n",
    "        x = tf.expand_dims(x, axis=0)\n",
    "        outputs = self.model(x)[0, :]\n",
    "        # Return a dictionary with the output tensor\n",
    "        return {'outputs': outputs}"
   ]
  },
  {
   "cell_type": "code",
   "execution_count": 34,
   "id": "b2e9bf45",
   "metadata": {
    "execution": {
     "iopub.execute_input": "2023-04-01T13:44:56.445896Z",
     "iopub.status.busy": "2023-04-01T13:44:56.445587Z",
     "iopub.status.idle": "2023-04-01T13:44:56.455839Z",
     "shell.execute_reply": "2023-04-01T13:44:56.454939Z"
    },
    "papermill": {
     "duration": 0.02934,
     "end_time": "2023-04-01T13:44:56.457892",
     "exception": false,
     "start_time": "2023-04-01T13:44:56.428552",
     "status": "completed"
    },
    "tags": []
   },
   "outputs": [],
   "source": [
    "tflite_keras_model = TFLiteModel(model)"
   ]
  },
  {
   "cell_type": "markdown",
   "id": "975902cd",
   "metadata": {
    "papermill": {
     "duration": 0.016199,
     "end_time": "2023-04-01T13:44:56.490478",
     "exception": false,
     "start_time": "2023-04-01T13:44:56.474279",
     "status": "completed"
    },
    "tags": []
   },
   "source": [
    "## TFlite model must perform inference with less than 100 milliseconds of latency per video on average"
   ]
  },
  {
   "cell_type": "code",
   "execution_count": 35,
   "id": "f28495e3",
   "metadata": {
    "execution": {
     "iopub.execute_input": "2023-04-01T13:44:56.524141Z",
     "iopub.status.busy": "2023-04-01T13:44:56.523835Z",
     "iopub.status.idle": "2023-04-01T13:45:03.892038Z",
     "shell.execute_reply": "2023-04-01T13:45:03.890731Z"
    },
    "papermill": {
     "duration": 7.388402,
     "end_time": "2023-04-01T13:45:03.895037",
     "exception": false,
     "start_time": "2023-04-01T13:44:56.506635",
     "status": "completed"
    },
    "tags": []
   },
   "outputs": [
    {
     "name": "stdout",
     "output_type": "stream",
     "text": [
      "11.3 ms ± 1.04 ms per loop (mean ± std. dev. of 7 runs, 1 loop each)\n",
      "8.3 ms ± 1.26 ms per loop (mean ± std. dev. of 7 runs, 100 loops each)\n"
     ]
    }
   ],
   "source": [
    "for i in range(2):\n",
    "    %timeit demo_output = tflite_keras_model(load_relevant_data_subset(path_train_df.path[i]))[\"outputs\"]"
   ]
  },
  {
   "cell_type": "code",
   "execution_count": 36,
   "id": "7d54c181",
   "metadata": {
    "execution": {
     "iopub.execute_input": "2023-04-01T13:45:03.930264Z",
     "iopub.status.busy": "2023-04-01T13:45:03.929962Z",
     "iopub.status.idle": "2023-04-01T13:45:04.177590Z",
     "shell.execute_reply": "2023-04-01T13:45:04.176650Z"
    },
    "papermill": {
     "duration": 0.267559,
     "end_time": "2023-04-01T13:45:04.180032",
     "exception": false,
     "start_time": "2023-04-01T13:45:03.912473",
     "status": "completed"
    },
    "tags": []
   },
   "outputs": [
    {
     "name": "stdout",
     "output_type": "stream",
     "text": [
      "1/1 [==============================] - 0s 192ms/step\n"
     ]
    },
    {
     "data": {
      "text/plain": [
       "(250,)"
      ]
     },
     "execution_count": 36,
     "metadata": {},
     "output_type": "execute_result"
    }
   ],
   "source": [
    "tflite_keras_model.predict(load_relevant_data_subset(path_train_df.path[i]))[\"outputs\"].shape"
   ]
  },
  {
   "cell_type": "code",
   "execution_count": 37,
   "id": "c9e88d2e",
   "metadata": {
    "execution": {
     "iopub.execute_input": "2023-04-01T13:45:04.216790Z",
     "iopub.status.busy": "2023-04-01T13:45:04.215020Z",
     "iopub.status.idle": "2023-04-01T13:45:10.261718Z",
     "shell.execute_reply": "2023-04-01T13:45:10.260636Z"
    },
    "papermill": {
     "duration": 6.067164,
     "end_time": "2023-04-01T13:45:10.264369",
     "exception": false,
     "start_time": "2023-04-01T13:45:04.197205",
     "status": "completed"
    },
    "tags": []
   },
   "outputs": [],
   "source": [
    "converter = tf.lite.TFLiteConverter.from_keras_model(tflite_keras_model)\n",
    "\n",
    "converter.target_spec.supported_ops = [\n",
    "    tf.lite.OpsSet.TFLITE_BUILTINS,\n",
    "    tf.lite.OpsSet.SELECT_TF_OPS,\n",
    "]\n",
    "# converter._experimental_lower_tensor_list_ops = False\n",
    "\n",
    "tflite_model = converter.convert()"
   ]
  },
  {
   "cell_type": "code",
   "execution_count": 38,
   "id": "a2292200",
   "metadata": {
    "execution": {
     "iopub.execute_input": "2023-04-01T13:45:10.300220Z",
     "iopub.status.busy": "2023-04-01T13:45:10.299331Z",
     "iopub.status.idle": "2023-04-01T13:45:10.322012Z",
     "shell.execute_reply": "2023-04-01T13:45:10.320855Z"
    },
    "papermill": {
     "duration": 0.043007,
     "end_time": "2023-04-01T13:45:10.324468",
     "exception": false,
     "start_time": "2023-04-01T13:45:10.281461",
     "status": "completed"
    },
    "tags": []
   },
   "outputs": [],
   "source": [
    "# Save model\n",
    "model_path = \"model.tflite\"\n",
    "with open(model_path, \"wb\") as f:\n",
    "    f.write(tflite_model)"
   ]
  },
  {
   "cell_type": "markdown",
   "id": "bf212ba7",
   "metadata": {
    "papermill": {
     "duration": 0.016363,
     "end_time": "2023-04-01T13:45:10.357527",
     "exception": false,
     "start_time": "2023-04-01T13:45:10.341164",
     "status": "completed"
    },
    "tags": []
   },
   "source": [
    "## Model must use less than 40 MB of storage space"
   ]
  },
  {
   "cell_type": "code",
   "execution_count": 39,
   "id": "e6db0610",
   "metadata": {
    "execution": {
     "iopub.execute_input": "2023-04-01T13:45:10.392589Z",
     "iopub.status.busy": "2023-04-01T13:45:10.391637Z",
     "iopub.status.idle": "2023-04-01T13:45:11.383865Z",
     "shell.execute_reply": "2023-04-01T13:45:11.382597Z"
    },
    "papermill": {
     "duration": 1.012375,
     "end_time": "2023-04-01T13:45:11.386439",
     "exception": false,
     "start_time": "2023-04-01T13:45:10.374064",
     "status": "completed"
    },
    "tags": []
   },
   "outputs": [
    {
     "name": "stdout",
     "output_type": "stream",
     "text": [
      "-rw-r--r-- 1 root root 23M Apr  1 13:45 model.tflite\r\n"
     ]
    }
   ],
   "source": [
    "!ls -lh model.tflite"
   ]
  },
  {
   "cell_type": "code",
   "execution_count": 40,
   "id": "b626c3ea",
   "metadata": {
    "execution": {
     "iopub.execute_input": "2023-04-01T13:45:11.421688Z",
     "iopub.status.busy": "2023-04-01T13:45:11.421325Z",
     "iopub.status.idle": "2023-04-01T13:45:13.608947Z",
     "shell.execute_reply": "2023-04-01T13:45:13.607689Z"
    },
    "papermill": {
     "duration": 2.208534,
     "end_time": "2023-04-01T13:45:13.611936",
     "exception": false,
     "start_time": "2023-04-01T13:45:11.403402",
     "status": "completed"
    },
    "tags": []
   },
   "outputs": [
    {
     "name": "stdout",
     "output_type": "stream",
     "text": [
      "  adding: model.tflite (deflated 8%)\r\n"
     ]
    }
   ],
   "source": [
    "!zip submission.zip $model_path"
   ]
  },
  {
   "cell_type": "code",
   "execution_count": 41,
   "id": "817d9a30",
   "metadata": {
    "execution": {
     "iopub.execute_input": "2023-04-01T13:45:13.648233Z",
     "iopub.status.busy": "2023-04-01T13:45:13.647501Z",
     "iopub.status.idle": "2023-04-01T13:45:24.011328Z",
     "shell.execute_reply": "2023-04-01T13:45:24.010002Z"
    },
    "papermill": {
     "duration": 10.38418,
     "end_time": "2023-04-01T13:45:24.013517",
     "exception": false,
     "start_time": "2023-04-01T13:45:13.629337",
     "status": "completed"
    },
    "tags": []
   },
   "outputs": [
    {
     "name": "stdout",
     "output_type": "stream",
     "text": [
      "\u001b[33mWARNING: Running pip as the 'root' user can result in broken permissions and conflicting behaviour with the system package manager. It is recommended to use a virtual environment instead: https://pip.pypa.io/warnings/venv\u001b[0m\u001b[33m\r\n",
      "\u001b[0mNote: you may need to restart the kernel to use updated packages.\n"
     ]
    }
   ],
   "source": [
    "%pip install tflite_runtime --quiet"
   ]
  },
  {
   "cell_type": "code",
   "execution_count": 42,
   "id": "e23c67dc",
   "metadata": {
    "execution": {
     "iopub.execute_input": "2023-04-01T13:45:24.050438Z",
     "iopub.status.busy": "2023-04-01T13:45:24.050106Z",
     "iopub.status.idle": "2023-04-01T13:45:24.109527Z",
     "shell.execute_reply": "2023-04-01T13:45:24.107461Z"
    },
    "papermill": {
     "duration": 0.081458,
     "end_time": "2023-04-01T13:45:24.112597",
     "exception": false,
     "start_time": "2023-04-01T13:45:24.031139",
     "status": "completed"
    },
    "tags": []
   },
   "outputs": [
    {
     "name": "stdout",
     "output_type": "stream",
     "text": [
      "PREDICTION :  dry\n",
      "ACTUAL   :  blow\n"
     ]
    },
    {
     "name": "stderr",
     "output_type": "stream",
     "text": [
      "INFO: Created TensorFlow Lite delegate for select TF ops.\n",
      "INFO: TfLiteFlexDelegate delegate: 2 nodes delegated out of 52 nodes with 2 partitions.\n",
      "\n"
     ]
    }
   ],
   "source": [
    "import tflite_runtime.interpreter as tflite\n",
    "\n",
    "# load you tflite model\n",
    "interpreter = tflite.Interpreter(\"model.tflite\")\n",
    "found_signatures = list(interpreter.get_signature_list().keys())\n",
    "\n",
    "prediction_fn = interpreter.get_signature_runner(\"serving_default\")\n",
    "\n",
    "# predict class of the relevant video\n",
    "output = prediction_fn(inputs=load_relevant_data_subset(path_train_df.path[0]))\n",
    "sign = np.argmax(output[\"outputs\"])\n",
    "\n",
    "print(\"PREDICTION : \", decoder(sign))\n",
    "print(\"ACTUAL   : \", path_train_df.sign[0])"
   ]
  },
  {
   "cell_type": "code",
   "execution_count": 43,
   "id": "eed0214d",
   "metadata": {
    "execution": {
     "iopub.execute_input": "2023-04-01T13:45:24.148935Z",
     "iopub.status.busy": "2023-04-01T13:45:24.148628Z",
     "iopub.status.idle": "2023-04-01T13:45:24.156647Z",
     "shell.execute_reply": "2023-04-01T13:45:24.155308Z"
    },
    "papermill": {
     "duration": 0.029045,
     "end_time": "2023-04-01T13:45:24.159187",
     "exception": false,
     "start_time": "2023-04-01T13:45:24.130142",
     "status": "completed"
    },
    "tags": []
   },
   "outputs": [
    {
     "data": {
      "text/plain": [
       "\"\\nimport tensorflow as tf\\nimport numpy as np\\n\\n# Load the TFLite model\\ninterpreter = tf.lite.Interpreter(model_path='model.tflite')\\ninterpreter.allocate_tensors()\\n\\n# Get input and output tensors information\\ninput_details = interpreter.get_input_details()\\noutput_details = interpreter.get_output_details()\\n\\n# Prepare your test input data (ensure it has the correct shape)\\ninput_data = np.array(load_relevant_data_subset(path_train_df.path[0]), dtype=np.float32)\\n\\n# Set the input tensor with your test data\\ninterpreter.set_tensor(input_details[0]['index'], input_data)\\n\\n# Run the model\\ninterpreter.invoke()\\n\\n# Get the output tensor\\noutput_data = interpreter.get_tensor(output_details[0]['index'])\\nprint(output_data.shape)\\nprint(output_data.argmax())\\nprint(decoder(output_data.argmax()))\\n\""
      ]
     },
     "execution_count": 43,
     "metadata": {},
     "output_type": "execute_result"
    }
   ],
   "source": [
    "\"\"\"\n",
    "import tensorflow as tf\n",
    "import numpy as np\n",
    "\n",
    "# Load the TFLite model\n",
    "interpreter = tf.lite.Interpreter(model_path='model.tflite')\n",
    "interpreter.allocate_tensors()\n",
    "\n",
    "# Get input and output tensors information\n",
    "input_details = interpreter.get_input_details()\n",
    "output_details = interpreter.get_output_details()\n",
    "\n",
    "# Prepare your test input data (ensure it has the correct shape)\n",
    "input_data = np.array(load_relevant_data_subset(path_train_df.path[0]), dtype=np.float32)\n",
    "\n",
    "# Set the input tensor with your test data\n",
    "interpreter.set_tensor(input_details[0]['index'], input_data)\n",
    "\n",
    "# Run the model\n",
    "interpreter.invoke()\n",
    "\n",
    "# Get the output tensor\n",
    "output_data = interpreter.get_tensor(output_details[0]['index'])\n",
    "print(output_data.shape)\n",
    "print(output_data.argmax())\n",
    "print(decoder(output_data.argmax()))\n",
    "\"\"\""
   ]
  },
  {
   "cell_type": "code",
   "execution_count": null,
   "id": "27293dab",
   "metadata": {
    "papermill": {
     "duration": 0.017048,
     "end_time": "2023-04-01T13:45:24.193185",
     "exception": false,
     "start_time": "2023-04-01T13:45:24.176137",
     "status": "completed"
    },
    "tags": []
   },
   "outputs": [],
   "source": []
  }
 ],
 "metadata": {
  "kernelspec": {
   "display_name": "Python 3",
   "language": "python",
   "name": "python3"
  },
  "language_info": {
   "codemirror_mode": {
    "name": "ipython",
    "version": 3
   },
   "file_extension": ".py",
   "mimetype": "text/x-python",
   "name": "python",
   "nbconvert_exporter": "python",
   "pygments_lexer": "ipython3",
   "version": "3.7.12"
  },
  "papermill": {
   "default_parameters": {},
   "duration": 105.77131,
   "end_time": "2023-04-01T13:45:27.825573",
   "environment_variables": {},
   "exception": null,
   "input_path": "__notebook__.ipynb",
   "output_path": "__notebook__.ipynb",
   "parameters": {},
   "start_time": "2023-04-01T13:43:42.054263",
   "version": "2.4.0"
  },
  "widgets": {
   "application/vnd.jupyter.widget-state+json": {
    "state": {
     "02d23f4eba634486b9cdb78492a2fbf9": {
      "model_module": "@jupyter-widgets/base",
      "model_module_version": "1.2.0",
      "model_name": "LayoutModel",
      "state": {
       "_model_module": "@jupyter-widgets/base",
       "_model_module_version": "1.2.0",
       "_model_name": "LayoutModel",
       "_view_count": null,
       "_view_module": "@jupyter-widgets/base",
       "_view_module_version": "1.2.0",
       "_view_name": "LayoutView",
       "align_content": null,
       "align_items": null,
       "align_self": null,
       "border": null,
       "bottom": null,
       "display": null,
       "flex": null,
       "flex_flow": null,
       "grid_area": null,
       "grid_auto_columns": null,
       "grid_auto_flow": null,
       "grid_auto_rows": null,
       "grid_column": null,
       "grid_gap": null,
       "grid_row": null,
       "grid_template_areas": null,
       "grid_template_columns": null,
       "grid_template_rows": null,
       "height": null,
       "justify_content": null,
       "justify_items": null,
       "left": null,
       "margin": null,
       "max_height": null,
       "max_width": null,
       "min_height": null,
       "min_width": null,
       "object_fit": null,
       "object_position": null,
       "order": null,
       "overflow": null,
       "overflow_x": null,
       "overflow_y": null,
       "padding": null,
       "right": null,
       "top": null,
       "visibility": null,
       "width": null
      }
     },
     "0e3a4505cd6541cfacec0ed423323f2f": {
      "model_module": "@jupyter-widgets/controls",
      "model_module_version": "1.5.0",
      "model_name": "DescriptionStyleModel",
      "state": {
       "_model_module": "@jupyter-widgets/controls",
       "_model_module_version": "1.5.0",
       "_model_name": "DescriptionStyleModel",
       "_view_count": null,
       "_view_module": "@jupyter-widgets/base",
       "_view_module_version": "1.2.0",
       "_view_name": "StyleView",
       "description_width": ""
      }
     },
     "1c916ce25d3f4e7e852fd12e429c1226": {
      "model_module": "@jupyter-widgets/base",
      "model_module_version": "1.2.0",
      "model_name": "LayoutModel",
      "state": {
       "_model_module": "@jupyter-widgets/base",
       "_model_module_version": "1.2.0",
       "_model_name": "LayoutModel",
       "_view_count": null,
       "_view_module": "@jupyter-widgets/base",
       "_view_module_version": "1.2.0",
       "_view_name": "LayoutView",
       "align_content": null,
       "align_items": null,
       "align_self": null,
       "border": null,
       "bottom": null,
       "display": null,
       "flex": null,
       "flex_flow": null,
       "grid_area": null,
       "grid_auto_columns": null,
       "grid_auto_flow": null,
       "grid_auto_rows": null,
       "grid_column": null,
       "grid_gap": null,
       "grid_row": null,
       "grid_template_areas": null,
       "grid_template_columns": null,
       "grid_template_rows": null,
       "height": null,
       "justify_content": null,
       "justify_items": null,
       "left": null,
       "margin": null,
       "max_height": null,
       "max_width": null,
       "min_height": null,
       "min_width": null,
       "object_fit": null,
       "object_position": null,
       "order": null,
       "overflow": null,
       "overflow_x": null,
       "overflow_y": null,
       "padding": null,
       "right": null,
       "top": null,
       "visibility": null,
       "width": null
      }
     },
     "2607ef8a3cd04a2d8fa86f8d58aaf043": {
      "model_module": "@jupyter-widgets/controls",
      "model_module_version": "1.5.0",
      "model_name": "HBoxModel",
      "state": {
       "_dom_classes": [],
       "_model_module": "@jupyter-widgets/controls",
       "_model_module_version": "1.5.0",
       "_model_name": "HBoxModel",
       "_view_count": null,
       "_view_module": "@jupyter-widgets/controls",
       "_view_module_version": "1.5.0",
       "_view_name": "HBoxView",
       "box_style": "",
       "children": [
        "IPY_MODEL_382414ece00f4b59839e300561bd4d97",
        "IPY_MODEL_775f6903f0b443c393368f0cdb785c75",
        "IPY_MODEL_a9bfce6162d7403cac5c5f1ff179f343"
       ],
       "layout": "IPY_MODEL_b1f91ccaf4b54e80be426baa6feb0281"
      }
     },
     "31db6de762024f50bd138831ac08a7e7": {
      "model_module": "@jupyter-widgets/base",
      "model_module_version": "1.2.0",
      "model_name": "LayoutModel",
      "state": {
       "_model_module": "@jupyter-widgets/base",
       "_model_module_version": "1.2.0",
       "_model_name": "LayoutModel",
       "_view_count": null,
       "_view_module": "@jupyter-widgets/base",
       "_view_module_version": "1.2.0",
       "_view_name": "LayoutView",
       "align_content": null,
       "align_items": null,
       "align_self": null,
       "border": null,
       "bottom": null,
       "display": null,
       "flex": null,
       "flex_flow": null,
       "grid_area": null,
       "grid_auto_columns": null,
       "grid_auto_flow": null,
       "grid_auto_rows": null,
       "grid_column": null,
       "grid_gap": null,
       "grid_row": null,
       "grid_template_areas": null,
       "grid_template_columns": null,
       "grid_template_rows": null,
       "height": null,
       "justify_content": null,
       "justify_items": null,
       "left": null,
       "margin": null,
       "max_height": null,
       "max_width": null,
       "min_height": null,
       "min_width": null,
       "object_fit": null,
       "object_position": null,
       "order": null,
       "overflow": null,
       "overflow_x": null,
       "overflow_y": null,
       "padding": null,
       "right": null,
       "top": null,
       "visibility": null,
       "width": null
      }
     },
     "382414ece00f4b59839e300561bd4d97": {
      "model_module": "@jupyter-widgets/controls",
      "model_module_version": "1.5.0",
      "model_name": "HTMLModel",
      "state": {
       "_dom_classes": [],
       "_model_module": "@jupyter-widgets/controls",
       "_model_module_version": "1.5.0",
       "_model_name": "HTMLModel",
       "_view_count": null,
       "_view_module": "@jupyter-widgets/controls",
       "_view_module_version": "1.5.0",
       "_view_name": "HTMLView",
       "description": "",
       "description_tooltip": null,
       "layout": "IPY_MODEL_02d23f4eba634486b9cdb78492a2fbf9",
       "placeholder": "​",
       "style": "IPY_MODEL_ef08532ee4f34e9aa5d7efd610b296e8",
       "value": "100%"
      }
     },
     "5022053d30844adfb1878c081130e649": {
      "model_module": "@jupyter-widgets/controls",
      "model_module_version": "1.5.0",
      "model_name": "FloatProgressModel",
      "state": {
       "_dom_classes": [],
       "_model_module": "@jupyter-widgets/controls",
       "_model_module_version": "1.5.0",
       "_model_name": "FloatProgressModel",
       "_view_count": null,
       "_view_module": "@jupyter-widgets/controls",
       "_view_module_version": "1.5.0",
       "_view_name": "ProgressView",
       "bar_style": "danger",
       "description": "",
       "description_tooltip": null,
       "layout": "IPY_MODEL_75f6b63f2499404ebaaa21980035a2be",
       "max": 944.0,
       "min": 0.0,
       "orientation": "horizontal",
       "style": "IPY_MODEL_8e87cc6f826544b5acdfb4ee859230e9",
       "value": 944.0
      }
     },
     "511dbbd176e44c08a2cb43f8aa2e1dcd": {
      "model_module": "@jupyter-widgets/base",
      "model_module_version": "1.2.0",
      "model_name": "LayoutModel",
      "state": {
       "_model_module": "@jupyter-widgets/base",
       "_model_module_version": "1.2.0",
       "_model_name": "LayoutModel",
       "_view_count": null,
       "_view_module": "@jupyter-widgets/base",
       "_view_module_version": "1.2.0",
       "_view_name": "LayoutView",
       "align_content": null,
       "align_items": null,
       "align_self": null,
       "border": null,
       "bottom": null,
       "display": null,
       "flex": null,
       "flex_flow": null,
       "grid_area": null,
       "grid_auto_columns": null,
       "grid_auto_flow": null,
       "grid_auto_rows": null,
       "grid_column": null,
       "grid_gap": null,
       "grid_row": null,
       "grid_template_areas": null,
       "grid_template_columns": null,
       "grid_template_rows": null,
       "height": null,
       "justify_content": null,
       "justify_items": null,
       "left": null,
       "margin": null,
       "max_height": null,
       "max_width": null,
       "min_height": null,
       "min_width": null,
       "object_fit": null,
       "object_position": null,
       "order": null,
       "overflow": null,
       "overflow_x": null,
       "overflow_y": null,
       "padding": null,
       "right": null,
       "top": null,
       "visibility": null,
       "width": null
      }
     },
     "5a1182eaea254c63a40f1970cad2af03": {
      "model_module": "@jupyter-widgets/controls",
      "model_module_version": "1.5.0",
      "model_name": "DescriptionStyleModel",
      "state": {
       "_model_module": "@jupyter-widgets/controls",
       "_model_module_version": "1.5.0",
       "_model_name": "DescriptionStyleModel",
       "_view_count": null,
       "_view_module": "@jupyter-widgets/base",
       "_view_module_version": "1.2.0",
       "_view_name": "StyleView",
       "description_width": ""
      }
     },
     "5c727c340ac4477ca6e5bdc039f27932": {
      "model_module": "@jupyter-widgets/controls",
      "model_module_version": "1.5.0",
      "model_name": "DescriptionStyleModel",
      "state": {
       "_model_module": "@jupyter-widgets/controls",
       "_model_module_version": "1.5.0",
       "_model_name": "DescriptionStyleModel",
       "_view_count": null,
       "_view_module": "@jupyter-widgets/base",
       "_view_module_version": "1.2.0",
       "_view_name": "StyleView",
       "description_width": ""
      }
     },
     "5e23a71d59084e129a075994dad5f0d3": {
      "model_module": "@jupyter-widgets/controls",
      "model_module_version": "1.5.0",
      "model_name": "HTMLModel",
      "state": {
       "_dom_classes": [],
       "_model_module": "@jupyter-widgets/controls",
       "_model_module_version": "1.5.0",
       "_model_name": "HTMLModel",
       "_view_count": null,
       "_view_module": "@jupyter-widgets/controls",
       "_view_module_version": "1.5.0",
       "_view_name": "HTMLView",
       "description": "",
       "description_tooltip": null,
       "layout": "IPY_MODEL_1c916ce25d3f4e7e852fd12e429c1226",
       "placeholder": "​",
       "style": "IPY_MODEL_5c727c340ac4477ca6e5bdc039f27932",
       "value": " 944/944 [00:10&lt;00:00, 91.17it/s]"
      }
     },
     "75f6b63f2499404ebaaa21980035a2be": {
      "model_module": "@jupyter-widgets/base",
      "model_module_version": "1.2.0",
      "model_name": "LayoutModel",
      "state": {
       "_model_module": "@jupyter-widgets/base",
       "_model_module_version": "1.2.0",
       "_model_name": "LayoutModel",
       "_view_count": null,
       "_view_module": "@jupyter-widgets/base",
       "_view_module_version": "1.2.0",
       "_view_name": "LayoutView",
       "align_content": null,
       "align_items": null,
       "align_self": null,
       "border": null,
       "bottom": null,
       "display": null,
       "flex": null,
       "flex_flow": null,
       "grid_area": null,
       "grid_auto_columns": null,
       "grid_auto_flow": null,
       "grid_auto_rows": null,
       "grid_column": null,
       "grid_gap": null,
       "grid_row": null,
       "grid_template_areas": null,
       "grid_template_columns": null,
       "grid_template_rows": null,
       "height": null,
       "justify_content": null,
       "justify_items": null,
       "left": null,
       "margin": null,
       "max_height": null,
       "max_width": null,
       "min_height": null,
       "min_width": null,
       "object_fit": null,
       "object_position": null,
       "order": null,
       "overflow": null,
       "overflow_x": null,
       "overflow_y": null,
       "padding": null,
       "right": null,
       "top": null,
       "visibility": null,
       "width": null
      }
     },
     "775f6903f0b443c393368f0cdb785c75": {
      "model_module": "@jupyter-widgets/controls",
      "model_module_version": "1.5.0",
      "model_name": "FloatProgressModel",
      "state": {
       "_dom_classes": [],
       "_model_module": "@jupyter-widgets/controls",
       "_model_module_version": "1.5.0",
       "_model_name": "FloatProgressModel",
       "_view_count": null,
       "_view_module": "@jupyter-widgets/controls",
       "_view_module_version": "1.5.0",
       "_view_name": "ProgressView",
       "bar_style": "danger",
       "description": "",
       "description_tooltip": null,
       "layout": "IPY_MODEL_511dbbd176e44c08a2cb43f8aa2e1dcd",
       "max": 944.0,
       "min": 0.0,
       "orientation": "horizontal",
       "style": "IPY_MODEL_ffb0af565e4c407a8f384cb7654265c9",
       "value": 944.0
      }
     },
     "8e87cc6f826544b5acdfb4ee859230e9": {
      "model_module": "@jupyter-widgets/controls",
      "model_module_version": "1.5.0",
      "model_name": "ProgressStyleModel",
      "state": {
       "_model_module": "@jupyter-widgets/controls",
       "_model_module_version": "1.5.0",
       "_model_name": "ProgressStyleModel",
       "_view_count": null,
       "_view_module": "@jupyter-widgets/base",
       "_view_module_version": "1.2.0",
       "_view_name": "StyleView",
       "bar_color": null,
       "description_width": ""
      }
     },
     "97bf58d7d7f049f190e1a590f85ccdac": {
      "model_module": "@jupyter-widgets/base",
      "model_module_version": "1.2.0",
      "model_name": "LayoutModel",
      "state": {
       "_model_module": "@jupyter-widgets/base",
       "_model_module_version": "1.2.0",
       "_model_name": "LayoutModel",
       "_view_count": null,
       "_view_module": "@jupyter-widgets/base",
       "_view_module_version": "1.2.0",
       "_view_name": "LayoutView",
       "align_content": null,
       "align_items": null,
       "align_self": null,
       "border": null,
       "bottom": null,
       "display": null,
       "flex": null,
       "flex_flow": null,
       "grid_area": null,
       "grid_auto_columns": null,
       "grid_auto_flow": null,
       "grid_auto_rows": null,
       "grid_column": null,
       "grid_gap": null,
       "grid_row": null,
       "grid_template_areas": null,
       "grid_template_columns": null,
       "grid_template_rows": null,
       "height": null,
       "justify_content": null,
       "justify_items": null,
       "left": null,
       "margin": null,
       "max_height": null,
       "max_width": null,
       "min_height": null,
       "min_width": null,
       "object_fit": null,
       "object_position": null,
       "order": null,
       "overflow": null,
       "overflow_x": null,
       "overflow_y": null,
       "padding": null,
       "right": null,
       "top": null,
       "visibility": null,
       "width": null
      }
     },
     "a9bfce6162d7403cac5c5f1ff179f343": {
      "model_module": "@jupyter-widgets/controls",
      "model_module_version": "1.5.0",
      "model_name": "HTMLModel",
      "state": {
       "_dom_classes": [],
       "_model_module": "@jupyter-widgets/controls",
       "_model_module_version": "1.5.0",
       "_model_name": "HTMLModel",
       "_view_count": null,
       "_view_module": "@jupyter-widgets/controls",
       "_view_module_version": "1.5.0",
       "_view_name": "HTMLView",
       "description": "",
       "description_tooltip": null,
       "layout": "IPY_MODEL_31db6de762024f50bd138831ac08a7e7",
       "placeholder": "​",
       "style": "IPY_MODEL_5a1182eaea254c63a40f1970cad2af03",
       "value": " 944/944 [00:13&lt;00:00, 66.59it/s]"
      }
     },
     "b1f91ccaf4b54e80be426baa6feb0281": {
      "model_module": "@jupyter-widgets/base",
      "model_module_version": "1.2.0",
      "model_name": "LayoutModel",
      "state": {
       "_model_module": "@jupyter-widgets/base",
       "_model_module_version": "1.2.0",
       "_model_name": "LayoutModel",
       "_view_count": null,
       "_view_module": "@jupyter-widgets/base",
       "_view_module_version": "1.2.0",
       "_view_name": "LayoutView",
       "align_content": null,
       "align_items": null,
       "align_self": null,
       "border": null,
       "bottom": null,
       "display": null,
       "flex": null,
       "flex_flow": null,
       "grid_area": null,
       "grid_auto_columns": null,
       "grid_auto_flow": null,
       "grid_auto_rows": null,
       "grid_column": null,
       "grid_gap": null,
       "grid_row": null,
       "grid_template_areas": null,
       "grid_template_columns": null,
       "grid_template_rows": null,
       "height": null,
       "justify_content": null,
       "justify_items": null,
       "left": null,
       "margin": null,
       "max_height": null,
       "max_width": null,
       "min_height": null,
       "min_width": null,
       "object_fit": null,
       "object_position": null,
       "order": null,
       "overflow": null,
       "overflow_x": null,
       "overflow_y": null,
       "padding": null,
       "right": null,
       "top": null,
       "visibility": null,
       "width": null
      }
     },
     "b2142394cd19436ba2fb3b521a9689d4": {
      "model_module": "@jupyter-widgets/controls",
      "model_module_version": "1.5.0",
      "model_name": "HBoxModel",
      "state": {
       "_dom_classes": [],
       "_model_module": "@jupyter-widgets/controls",
       "_model_module_version": "1.5.0",
       "_model_name": "HBoxModel",
       "_view_count": null,
       "_view_module": "@jupyter-widgets/controls",
       "_view_module_version": "1.5.0",
       "_view_name": "HBoxView",
       "box_style": "",
       "children": [
        "IPY_MODEL_b6aa16dc52ca496c873274b2b89a9d03",
        "IPY_MODEL_5022053d30844adfb1878c081130e649",
        "IPY_MODEL_5e23a71d59084e129a075994dad5f0d3"
       ],
       "layout": "IPY_MODEL_f11f7010023d4a648887a39b7eadc202"
      }
     },
     "b6aa16dc52ca496c873274b2b89a9d03": {
      "model_module": "@jupyter-widgets/controls",
      "model_module_version": "1.5.0",
      "model_name": "HTMLModel",
      "state": {
       "_dom_classes": [],
       "_model_module": "@jupyter-widgets/controls",
       "_model_module_version": "1.5.0",
       "_model_name": "HTMLModel",
       "_view_count": null,
       "_view_module": "@jupyter-widgets/controls",
       "_view_module_version": "1.5.0",
       "_view_name": "HTMLView",
       "description": "",
       "description_tooltip": null,
       "layout": "IPY_MODEL_97bf58d7d7f049f190e1a590f85ccdac",
       "placeholder": "​",
       "style": "IPY_MODEL_0e3a4505cd6541cfacec0ed423323f2f",
       "value": "100%"
      }
     },
     "ef08532ee4f34e9aa5d7efd610b296e8": {
      "model_module": "@jupyter-widgets/controls",
      "model_module_version": "1.5.0",
      "model_name": "DescriptionStyleModel",
      "state": {
       "_model_module": "@jupyter-widgets/controls",
       "_model_module_version": "1.5.0",
       "_model_name": "DescriptionStyleModel",
       "_view_count": null,
       "_view_module": "@jupyter-widgets/base",
       "_view_module_version": "1.2.0",
       "_view_name": "StyleView",
       "description_width": ""
      }
     },
     "f11f7010023d4a648887a39b7eadc202": {
      "model_module": "@jupyter-widgets/base",
      "model_module_version": "1.2.0",
      "model_name": "LayoutModel",
      "state": {
       "_model_module": "@jupyter-widgets/base",
       "_model_module_version": "1.2.0",
       "_model_name": "LayoutModel",
       "_view_count": null,
       "_view_module": "@jupyter-widgets/base",
       "_view_module_version": "1.2.0",
       "_view_name": "LayoutView",
       "align_content": null,
       "align_items": null,
       "align_self": null,
       "border": null,
       "bottom": null,
       "display": null,
       "flex": null,
       "flex_flow": null,
       "grid_area": null,
       "grid_auto_columns": null,
       "grid_auto_flow": null,
       "grid_auto_rows": null,
       "grid_column": null,
       "grid_gap": null,
       "grid_row": null,
       "grid_template_areas": null,
       "grid_template_columns": null,
       "grid_template_rows": null,
       "height": null,
       "justify_content": null,
       "justify_items": null,
       "left": null,
       "margin": null,
       "max_height": null,
       "max_width": null,
       "min_height": null,
       "min_width": null,
       "object_fit": null,
       "object_position": null,
       "order": null,
       "overflow": null,
       "overflow_x": null,
       "overflow_y": null,
       "padding": null,
       "right": null,
       "top": null,
       "visibility": null,
       "width": null
      }
     },
     "ffb0af565e4c407a8f384cb7654265c9": {
      "model_module": "@jupyter-widgets/controls",
      "model_module_version": "1.5.0",
      "model_name": "ProgressStyleModel",
      "state": {
       "_model_module": "@jupyter-widgets/controls",
       "_model_module_version": "1.5.0",
       "_model_name": "ProgressStyleModel",
       "_view_count": null,
       "_view_module": "@jupyter-widgets/base",
       "_view_module_version": "1.2.0",
       "_view_name": "StyleView",
       "bar_color": null,
       "description_width": ""
      }
     }
    },
    "version_major": 2,
    "version_minor": 0
   }
  }
 },
 "nbformat": 4,
 "nbformat_minor": 5
}
